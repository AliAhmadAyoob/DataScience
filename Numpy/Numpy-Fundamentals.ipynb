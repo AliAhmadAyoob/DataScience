{
 "cells": [
  {
   "cell_type": "code",
   "execution_count": 1,
   "id": "988f5937-09af-4ec1-ad72-d35fc2a5d654",
   "metadata": {},
   "outputs": [],
   "source": [
    "import numpy as np"
   ]
  },
  {
   "cell_type": "markdown",
   "id": "00b36439-4cba-4e17-8329-6ab53b7e2dff",
   "metadata": {},
   "source": [
    "# Creating 1D , 2D , 3D , 4D , 5D array"
   ]
  },
  {
   "cell_type": "code",
   "execution_count": 2,
   "id": "6aaa4b92-d6a3-41c0-9b27-239c5eb5c39c",
   "metadata": {},
   "outputs": [
    {
     "data": {
      "text/plain": [
       "array([1, 2, 3, 4, 5, 6])"
      ]
     },
     "execution_count": 2,
     "metadata": {},
     "output_type": "execute_result"
    }
   ],
   "source": [
    "a1 = np.array([1,2,3,4,5,6])\n",
    "a1"
   ]
  },
  {
   "cell_type": "code",
   "execution_count": 3,
   "id": "3e48e5dd-cff4-4f36-a0fa-ae1d3e99e60e",
   "metadata": {},
   "outputs": [
    {
     "name": "stdout",
     "output_type": "stream",
     "text": [
      "[[ 2  4]\n",
      " [ 8 10]]\n",
      "(2, 2)\n"
     ]
    }
   ],
   "source": [
    "a2 = np.array([[2,4],\n",
    "               [8,10]])\n",
    "print(a2)\n",
    "print(a2.shape)"
   ]
  },
  {
   "cell_type": "code",
   "execution_count": 4,
   "id": "72e6264a-f0c4-4d1c-944f-83a0df184be3",
   "metadata": {},
   "outputs": [
    {
     "name": "stdout",
     "output_type": "stream",
     "text": [
      "[[[1 3]\n",
      "  [2 4]]\n",
      "\n",
      " [[2 4]\n",
      "  [7 9]]]\n",
      "(2, 2, 2)\n"
     ]
    }
   ],
   "source": [
    "a3 = np.array([\n",
    "    [[1,3],\n",
    "     [2,4]],\n",
    "    \n",
    "    [[2,4],\n",
    "     [7,9]]\n",
    "])\n",
    "\n",
    "print(a3)\n",
    "print(a3.shape)"
   ]
  },
  {
   "cell_type": "raw",
   "id": "30ff521b-0f6f-4166-9656-51143aea94e8",
   "metadata": {},
   "source": [
    "🔑 Key Differences:\n",
    "\n",
    "Feature\t      |  a2\t                     |        a3\n",
    "Dimensionality| 2D\t                     |       3D\n",
    "Shape\t      | (2, 2)\t                 |       (1, 2, 2)\n",
    "Axis count\t  | 2 axes (rows, columns)\t |      3 axes (blocks, rows, columns)\n",
    "Use case\t  | Matrix operations\t     |      Stacked matrices / tensor ops\n",
    "\n"
   ]
  },
  {
   "cell_type": "code",
   "execution_count": 5,
   "id": "933817d6-26f5-4fc9-bdfa-9bea05bb6f54",
   "metadata": {},
   "outputs": [
    {
     "data": {
      "text/plain": [
       "array([[[[ 3,  4,  5],\n",
       "         [ 6,  7,  8]],\n",
       "\n",
       "        [[ 1,  1,  1],\n",
       "         [ 2,  2,  2]]],\n",
       "\n",
       "\n",
       "       [[[ 9, 10, 11],\n",
       "         [12, 13, 14]],\n",
       "\n",
       "        [[ 3,  3,  3],\n",
       "         [ 4,  4,  4]]]])"
      ]
     },
     "execution_count": 5,
     "metadata": {},
     "output_type": "execute_result"
    }
   ],
   "source": [
    "a4 =np.array([  \n",
    "    [              #batch 1\n",
    "        [[3,4,5],  #block 1.1\n",
    "         [6,7,8]],\n",
    "    \n",
    "    [[1,1,1],      # block 1.2\n",
    "     [2,2,2]]\n",
    "    ],\n",
    "    [               # batch 2\n",
    "        [[9,10,11], # block 2.1\n",
    "        [12,13,14]],\n",
    "        \n",
    "        [[3,3,3],   # block 2.2\n",
    "        [4,4,4]]\n",
    "    ]\n",
    "])\n",
    "a4"
   ]
  },
  {
   "cell_type": "code",
   "execution_count": 6,
   "id": "8b979603-1893-4a37-903e-621ed92c3a08",
   "metadata": {},
   "outputs": [
    {
     "data": {
      "text/plain": [
       "(2, 2, 2, 3)"
      ]
     },
     "execution_count": 6,
     "metadata": {},
     "output_type": "execute_result"
    }
   ],
   "source": [
    "a4.shape"
   ]
  },
  {
   "cell_type": "code",
   "execution_count": 7,
   "id": "85fdfb50-7975-4ad4-bb2b-0b490ad0bbfa",
   "metadata": {},
   "outputs": [
    {
     "data": {
      "text/plain": [
       "array([[[[[  3,   4,   5],\n",
       "          [  6,   7,   8]],\n",
       "\n",
       "         [[  1,   1,   1],\n",
       "          [  2,   2,   2]]],\n",
       "\n",
       "\n",
       "        [[[  9,  10,  11],\n",
       "          [ 12,  13,  14]],\n",
       "\n",
       "         [[  3,   3,   3],\n",
       "          [  4,   4,   4]]]],\n",
       "\n",
       "\n",
       "\n",
       "       [[[[ 10,  20,  30],\n",
       "          [ 40,  50,  60]],\n",
       "\n",
       "         [[ 70,  80,  90],\n",
       "          [100, 110, 120]]],\n",
       "\n",
       "\n",
       "        [[[130, 140, 150],\n",
       "          [160, 170, 180]],\n",
       "\n",
       "         [[110, 200, 210],\n",
       "          [220, 230, 240]]]]])"
      ]
     },
     "execution_count": 7,
     "metadata": {},
     "output_type": "execute_result"
    }
   ],
   "source": [
    "a5 =np.array([\n",
    "    [\n",
    "        [              #batch 1\n",
    "        [[3,4,5],  #block 1\n",
    "         [6,7,8]],\n",
    "    \n",
    "    [[1,1,1],      # block 2\n",
    "     [2,2,2]]\n",
    "    ],\n",
    "    [               # batch 2\n",
    "        [[9,10,11], # block 1\n",
    "        [12,13,14]],\n",
    "        \n",
    "        [[3,3,3],   # block 2\n",
    "        [4,4,4]]\n",
    "    ]\n",
    "]\n",
    ",\n",
    "[\n",
    "    [\n",
    "    [[10,20,30],\n",
    "    [40,50,60]],\n",
    "\n",
    "    [[70,80,90],\n",
    "    [100,110,120]]],\n",
    "\n",
    "    [\n",
    "    [[130,140,150],\n",
    "    [160,170,180]],\n",
    "\n",
    "     [[110,200,210],\n",
    "     [220,230,240]]\n",
    "    ]\n",
    "]\n",
    "])\n",
    "a5"
   ]
  },
  {
   "cell_type": "code",
   "execution_count": 8,
   "id": "137c9dcb-7732-45de-a8ba-3a842880f6e5",
   "metadata": {},
   "outputs": [
    {
     "data": {
      "text/plain": [
       "(2, 2, 2, 2, 3)"
      ]
     },
     "execution_count": 8,
     "metadata": {},
     "output_type": "execute_result"
    }
   ],
   "source": [
    "a5.shape"
   ]
  },
  {
   "cell_type": "markdown",
   "id": "bd20e617-1192-400a-9745-33401594a76d",
   "metadata": {},
   "source": [
    "# Creating Array Using Different Methods\n"
   ]
  },
  {
   "cell_type": "code",
   "execution_count": 9,
   "id": "5106cd20-c798-4684-a3ad-648edeb9abbc",
   "metadata": {},
   "outputs": [
    {
     "data": {
      "text/plain": [
       "array([2., 3., 4.])"
      ]
     },
     "execution_count": 9,
     "metadata": {},
     "output_type": "execute_result"
    }
   ],
   "source": [
    "arr = np.array([2,3,4],dtype=float)\n",
    "arr"
   ]
  },
  {
   "cell_type": "code",
   "execution_count": 10,
   "id": "437b29eb-7240-4543-be77-6532e38e8010",
   "metadata": {},
   "outputs": [
    {
     "data": {
      "text/plain": [
       "array([ 2,  6, 10])"
      ]
     },
     "execution_count": 10,
     "metadata": {},
     "output_type": "execute_result"
    }
   ],
   "source": [
    "np.arange(2,13,4)      #start , stop , step"
   ]
  },
  {
   "cell_type": "code",
   "execution_count": 11,
   "id": "94b1e958-869d-4220-972f-1a87ffdd912b",
   "metadata": {},
   "outputs": [
    {
     "data": {
      "text/plain": [
       "array([[[ 0,  1],\n",
       "        [ 2,  3]],\n",
       "\n",
       "       [[ 4,  5],\n",
       "        [ 6,  7]],\n",
       "\n",
       "       [[ 8,  9],\n",
       "        [10, 11]],\n",
       "\n",
       "       [[12, 13],\n",
       "        [14, 15]]])"
      ]
     },
     "execution_count": 11,
     "metadata": {},
     "output_type": "execute_result"
    }
   ],
   "source": [
    "np.arange(16).reshape(4,2,2)"
   ]
  },
  {
   "cell_type": "code",
   "execution_count": 12,
   "id": "334e1d7c-7083-4777-a423-55d4fe0b7b85",
   "metadata": {},
   "outputs": [
    {
     "data": {
      "text/plain": [
       "array([[[[ 0,  1],\n",
       "         [ 2,  3]],\n",
       "\n",
       "        [[ 4,  5],\n",
       "         [ 6,  7]]],\n",
       "\n",
       "\n",
       "       [[[ 8,  9],\n",
       "         [10, 11]],\n",
       "\n",
       "        [[12, 13],\n",
       "         [14, 15]]]])"
      ]
     },
     "execution_count": 12,
     "metadata": {},
     "output_type": "execute_result"
    }
   ],
   "source": [
    "np.arange(16).reshape(2,2,2,2)\n"
   ]
  },
  {
   "cell_type": "code",
   "execution_count": 13,
   "id": "9b7aebd1-ce6c-415d-a7fb-8a8d42cb89ac",
   "metadata": {},
   "outputs": [
    {
     "data": {
      "text/plain": [
       "array([[1., 1., 1.],\n",
       "       [1., 1., 1.]])"
      ]
     },
     "execution_count": 13,
     "metadata": {},
     "output_type": "execute_result"
    }
   ],
   "source": [
    "np.ones((2,3))"
   ]
  },
  {
   "cell_type": "code",
   "execution_count": 14,
   "id": "0af96eb7-bc1f-44e8-9107-2465cc0c78cc",
   "metadata": {},
   "outputs": [
    {
     "data": {
      "text/plain": [
       "array([[[[0., 0., 0.],\n",
       "         [0., 0., 0.],\n",
       "         [0., 0., 0.]],\n",
       "\n",
       "        [[0., 0., 0.],\n",
       "         [0., 0., 0.],\n",
       "         [0., 0., 0.]],\n",
       "\n",
       "        [[0., 0., 0.],\n",
       "         [0., 0., 0.],\n",
       "         [0., 0., 0.]]],\n",
       "\n",
       "\n",
       "       [[[0., 0., 0.],\n",
       "         [0., 0., 0.],\n",
       "         [0., 0., 0.]],\n",
       "\n",
       "        [[0., 0., 0.],\n",
       "         [0., 0., 0.],\n",
       "         [0., 0., 0.]],\n",
       "\n",
       "        [[0., 0., 0.],\n",
       "         [0., 0., 0.],\n",
       "         [0., 0., 0.]]],\n",
       "\n",
       "\n",
       "       [[[0., 0., 0.],\n",
       "         [0., 0., 0.],\n",
       "         [0., 0., 0.]],\n",
       "\n",
       "        [[0., 0., 0.],\n",
       "         [0., 0., 0.],\n",
       "         [0., 0., 0.]],\n",
       "\n",
       "        [[0., 0., 0.],\n",
       "         [0., 0., 0.],\n",
       "         [0., 0., 0.]]]])"
      ]
     },
     "execution_count": 14,
     "metadata": {},
     "output_type": "execute_result"
    }
   ],
   "source": [
    "np.zeros((3,3,3,3))"
   ]
  },
  {
   "cell_type": "code",
   "execution_count": 15,
   "id": "7cb9e610-01fe-4d41-8149-0d0dd7175ac8",
   "metadata": {},
   "outputs": [
    {
     "data": {
      "text/plain": [
       "array([[[0, 0],\n",
       "        [0, 0]],\n",
       "\n",
       "       [[0, 0],\n",
       "        [0, 0]]])"
      ]
     },
     "execution_count": 15,
     "metadata": {},
     "output_type": "execute_result"
    }
   ],
   "source": [
    "np.zeros_like(a3)"
   ]
  },
  {
   "cell_type": "code",
   "execution_count": 16,
   "id": "267cafd3-dad6-40fa-8cca-0e3f21d550b1",
   "metadata": {},
   "outputs": [
    {
     "data": {
      "text/plain": [
       "array([[[[[1, 1, 1],\n",
       "          [1, 1, 1]],\n",
       "\n",
       "         [[1, 1, 1],\n",
       "          [1, 1, 1]]],\n",
       "\n",
       "\n",
       "        [[[1, 1, 1],\n",
       "          [1, 1, 1]],\n",
       "\n",
       "         [[1, 1, 1],\n",
       "          [1, 1, 1]]]],\n",
       "\n",
       "\n",
       "\n",
       "       [[[[1, 1, 1],\n",
       "          [1, 1, 1]],\n",
       "\n",
       "         [[1, 1, 1],\n",
       "          [1, 1, 1]]],\n",
       "\n",
       "\n",
       "        [[[1, 1, 1],\n",
       "          [1, 1, 1]],\n",
       "\n",
       "         [[1, 1, 1],\n",
       "          [1, 1, 1]]]]])"
      ]
     },
     "execution_count": 16,
     "metadata": {},
     "output_type": "execute_result"
    }
   ],
   "source": [
    "np.ones_like(a5)"
   ]
  },
  {
   "cell_type": "code",
   "execution_count": 17,
   "id": "c4eb169d-3db8-4d99-bcf8-053d78821482",
   "metadata": {},
   "outputs": [
    {
     "data": {
      "text/plain": [
       "array([[[6, 6],\n",
       "        [9, 6]],\n",
       "\n",
       "       [[8, 3],\n",
       "        [6, 7]]])"
      ]
     },
     "execution_count": 17,
     "metadata": {},
     "output_type": "execute_result"
    }
   ],
   "source": [
    "np.random.randint(2,10,size=[2,2,2],dtype='int64')"
   ]
  },
  {
   "cell_type": "code",
   "execution_count": 18,
   "id": "3f995158-8063-4818-96cd-c805a758ec6f",
   "metadata": {},
   "outputs": [
    {
     "data": {
      "text/plain": [
       "array([[0.94293141, 0.4805413 , 0.43671719, 0.24525736],\n",
       "       [0.03590958, 0.91463973, 0.63899662, 0.38021616],\n",
       "       [0.56677811, 0.12334269, 0.19945409, 0.13552213]])"
      ]
     },
     "execution_count": 18,
     "metadata": {},
     "output_type": "execute_result"
    }
   ],
   "source": [
    "np.random.random((3,4))"
   ]
  },
  {
   "cell_type": "code",
   "execution_count": 19,
   "id": "3e926648-0e6a-40ba-8514-279532ca9e1b",
   "metadata": {},
   "outputs": [
    {
     "data": {
      "text/plain": [
       "array([-10, -10, -10, -10, -10,  -9,  -9,  -9,  -9,  -9,  -8,  -8,  -8,\n",
       "        -8,  -8,  -7,  -7,  -7,  -7,  -7,  -6,  -6,  -6,  -6,  -6,  -5,\n",
       "        -5,  -5,  -5,  -5,  -4,  -4,  -4,  -4,  -4,  -3,  -3,  -3,  -3,\n",
       "        -3,  -2,  -2,  -2,  -2,  -2,  -1,  -1,  -1,  -1,  -1,   0,   0,\n",
       "         0,   0,   0,   1,   1,   1,   1,   1,   2,   2,   2,   2,   2,\n",
       "         3,   3,   3,   3,   3,   4,   4,   4,   4,   4,   5,   5,   5,\n",
       "         5,   5,   6,   6,   6,   6,   6,   7,   7,   7,   7,   7,   8,\n",
       "         8,   8,   8,   8,   9,   9,   9,   9,  10])"
      ]
     },
     "execution_count": 19,
     "metadata": {},
     "output_type": "execute_result"
    }
   ],
   "source": [
    "np.linspace(-10,10,100,dtype=int)"
   ]
  },
  {
   "cell_type": "code",
   "execution_count": 20,
   "id": "35058fda-d310-4659-9642-679a730cab49",
   "metadata": {},
   "outputs": [
    {
     "data": {
      "text/plain": [
       "array([-10.        ,  -7.77777778,  -5.55555556,  -3.33333333,\n",
       "        -1.11111111,   1.11111111,   3.33333333,   5.55555556,\n",
       "         7.77777778,  10.        ])"
      ]
     },
     "execution_count": 20,
     "metadata": {},
     "output_type": "execute_result"
    }
   ],
   "source": [
    "np.linspace(-10,10,10,dtype=float)\n"
   ]
  },
  {
   "cell_type": "code",
   "execution_count": 21,
   "id": "dbb41752-7ffd-4d72-be0e-9f040798cf81",
   "metadata": {},
   "outputs": [
    {
     "data": {
      "text/plain": [
       "array([[1., 0., 0., 0., 0., 0.],\n",
       "       [0., 1., 0., 0., 0., 0.],\n",
       "       [0., 0., 1., 0., 0., 0.],\n",
       "       [0., 0., 0., 1., 0., 0.],\n",
       "       [0., 0., 0., 0., 1., 0.],\n",
       "       [0., 0., 0., 0., 0., 1.]])"
      ]
     },
     "execution_count": 21,
     "metadata": {},
     "output_type": "execute_result"
    }
   ],
   "source": [
    "np.identity(6)"
   ]
  },
  {
   "cell_type": "markdown",
   "id": "1913766d-6caa-413d-a492-29253066f84f",
   "metadata": {},
   "source": [
    "# Array Attributes"
   ]
  },
  {
   "cell_type": "code",
   "execution_count": 22,
   "id": "d106d122-0ad2-43c1-9749-1722d2462899",
   "metadata": {},
   "outputs": [
    {
     "name": "stdout",
     "output_type": "stream",
     "text": [
      "[0 1 2 3 4 5 6 7 8 9]\n",
      "\n",
      "[[ 0.  1.  2.  3.]\n",
      " [ 4.  5.  6.  7.]\n",
      " [ 8.  9. 10. 11.]]\n",
      "\n",
      "[[[0 1]\n",
      "  [2 3]]\n",
      "\n",
      " [[4 5]\n",
      "  [6 7]]]\n"
     ]
    }
   ],
   "source": [
    "a1 = np.arange(10,dtype=np.int32)\n",
    "a2 = np.arange(12,dtype=float).reshape(3,4)\n",
    "a3 = np.arange(8).reshape(2,2,2)\n",
    "\n",
    "print(a1)\n",
    "print()\n",
    "print(a2)\n",
    "print()\n",
    "print(a3)"
   ]
  },
  {
   "cell_type": "code",
   "execution_count": 23,
   "id": "8b44f258-f71f-47a4-83f5-e9c25ae618ba",
   "metadata": {},
   "outputs": [
    {
     "data": {
      "text/plain": [
       "(1, 2, 3)"
      ]
     },
     "execution_count": 23,
     "metadata": {},
     "output_type": "execute_result"
    }
   ],
   "source": [
    "a1.ndim,a2.ndim,a3.ndim"
   ]
  },
  {
   "cell_type": "code",
   "execution_count": 24,
   "id": "bad11824-0395-44f0-8e79-6c634db7303f",
   "metadata": {},
   "outputs": [
    {
     "data": {
      "text/plain": [
       "((10,), (3, 4), (2, 2, 2))"
      ]
     },
     "execution_count": 24,
     "metadata": {},
     "output_type": "execute_result"
    }
   ],
   "source": [
    "a1.shape,a2.shape,a3.shape"
   ]
  },
  {
   "cell_type": "code",
   "execution_count": 25,
   "id": "5b7570d1-64ad-47d2-b736-3d91ec01887e",
   "metadata": {},
   "outputs": [
    {
     "data": {
      "text/plain": [
       "(10, 12, 8)"
      ]
     },
     "execution_count": 25,
     "metadata": {},
     "output_type": "execute_result"
    }
   ],
   "source": [
    "a1.size,a2.size,a3.size"
   ]
  },
  {
   "cell_type": "code",
   "execution_count": 26,
   "id": "ad393b9f-1938-4c9f-ae23-2814da090ca5",
   "metadata": {},
   "outputs": [
    {
     "data": {
      "text/plain": [
       "(dtype('int32'), dtype('float64'), dtype('int64'))"
      ]
     },
     "execution_count": 26,
     "metadata": {},
     "output_type": "execute_result"
    }
   ],
   "source": [
    "a1.dtype,a2.dtype,a3.dtype"
   ]
  },
  {
   "cell_type": "raw",
   "id": "95967a86-f5ea-4c8a-a7b8-df9fb314ebd4",
   "metadata": {},
   "source": [
    "np.itemsize in NumPy gives the size in bytes of each element (item) in a NumPy array."
   ]
  },
  {
   "cell_type": "code",
   "execution_count": 27,
   "id": "23fef1cc-786c-4812-b7e7-4fb7281df216",
   "metadata": {},
   "outputs": [
    {
     "data": {
      "text/plain": [
       "(4, 8, 8)"
      ]
     },
     "execution_count": 27,
     "metadata": {},
     "output_type": "execute_result"
    }
   ],
   "source": [
    "a1.itemsize,a2.itemsize,a3.itemsize"
   ]
  },
  {
   "cell_type": "code",
   "execution_count": 28,
   "id": "7e667a27-cb10-42f6-a808-d39809abe672",
   "metadata": {},
   "outputs": [
    {
     "name": "stdout",
     "output_type": "stream",
     "text": [
      "[0 1 2 3 4 5 6 7 8 9]\n"
     ]
    },
    {
     "data": {
      "text/plain": [
       "array([0., 1., 2., 3., 4., 5., 6., 7., 8., 9.], dtype=float32)"
      ]
     },
     "execution_count": 28,
     "metadata": {},
     "output_type": "execute_result"
    }
   ],
   "source": [
    "print(a1)\n",
    "a1.astype(np.float32)"
   ]
  },
  {
   "cell_type": "code",
   "execution_count": 29,
   "id": "0a633867-aff9-41d3-be35-394cfdf8d200",
   "metadata": {},
   "outputs": [
    {
     "data": {
      "text/plain": [
       "(array([[ 0,  1,  2,  3],\n",
       "        [ 4,  5,  6,  7],\n",
       "        [ 8,  9, 10, 11]]),\n",
       " array([[12, 13, 14],\n",
       "        [15, 16, 17],\n",
       "        [18, 19, 20],\n",
       "        [21, 22, 23]]))"
      ]
     },
     "execution_count": 29,
     "metadata": {},
     "output_type": "execute_result"
    }
   ],
   "source": [
    "arr1 = np.arange(12).reshape(3,4)\n",
    "arr2 = np.arange(12,24).reshape(4,3)\n",
    "arr1,arr2"
   ]
  },
  {
   "cell_type": "code",
   "execution_count": 30,
   "id": "ab9fff38-bf53-4140-a7b8-36d49d34c7fb",
   "metadata": {},
   "outputs": [
    {
     "data": {
      "text/plain": [
       "array([[ 0,  2,  4,  6],\n",
       "       [ 8, 10, 12, 14],\n",
       "       [16, 18, 20, 22]])"
      ]
     },
     "execution_count": 30,
     "metadata": {},
     "output_type": "execute_result"
    }
   ],
   "source": [
    "arr1 * 2"
   ]
  },
  {
   "cell_type": "code",
   "execution_count": 31,
   "id": "40e34570-4086-4f7d-8b32-c7258fff5aac",
   "metadata": {},
   "outputs": [
    {
     "data": {
      "text/plain": [
       "array([[False, False, False, False],\n",
       "       [False,  True, False, False],\n",
       "       [False, False, False, False]])"
      ]
     },
     "execution_count": 31,
     "metadata": {},
     "output_type": "execute_result"
    }
   ],
   "source": [
    "arr1 == 5"
   ]
  },
  {
   "cell_type": "code",
   "execution_count": 32,
   "id": "625dcf03-7a20-4084-af7a-21f9149216b8",
   "metadata": {},
   "outputs": [
    {
     "ename": "ValueError",
     "evalue": "operands could not be broadcast together with shapes (3,4) (4,3) ",
     "output_type": "error",
     "traceback": [
      "\u001b[1;31m---------------------------------------------------------------------------\u001b[0m",
      "\u001b[1;31mValueError\u001b[0m                                Traceback (most recent call last)",
      "Cell \u001b[1;32mIn[32], line 1\u001b[0m\n\u001b[1;32m----> 1\u001b[0m arr1 \u001b[38;5;241m*\u001b[39m arr2\n",
      "\u001b[1;31mValueError\u001b[0m: operands could not be broadcast together with shapes (3,4) (4,3) "
     ]
    }
   ],
   "source": [
    "arr1 * arr2"
   ]
  },
  {
   "cell_type": "code",
   "execution_count": null,
   "id": "d25fdcd8-451e-4d4d-adcc-6d7a0fd50c3f",
   "metadata": {},
   "outputs": [],
   "source": [
    "arr3 = np.arange(12,24).reshape(3,4)"
   ]
  },
  {
   "cell_type": "code",
   "execution_count": null,
   "id": "d6ee7791-f4f8-4371-9e6a-e9b9b869cab6",
   "metadata": {},
   "outputs": [],
   "source": [
    "arr1 ** arr3"
   ]
  },
  {
   "cell_type": "code",
   "execution_count": null,
   "id": "4238e923-e7b1-4302-ae1d-7305c390b4dc",
   "metadata": {},
   "outputs": [],
   "source": [
    "arr4 = np.random.random((3,3))\n",
    "arr4 = np.round(arr4*100)\n",
    "arr4"
   ]
  },
  {
   "cell_type": "markdown",
   "id": "1355b179-1b53-45ce-8560-0cb525ec5196",
   "metadata": {},
   "source": [
    "# Array Functions"
   ]
  },
  {
   "cell_type": "code",
   "execution_count": null,
   "id": "cb7c8886-2c39-4360-8749-fe5baf4da054",
   "metadata": {},
   "outputs": [],
   "source": [
    "max,min,sum,prod"
   ]
  },
  {
   "cell_type": "code",
   "execution_count": null,
   "id": "17c31ef5-2fae-449c-af07-8d7ac45745af",
   "metadata": {},
   "outputs": [],
   "source": [
    "np.max(arr4)   # it gives from whole array"
   ]
  },
  {
   "cell_type": "code",
   "execution_count": null,
   "id": "ad2cb880-6e8d-4e38-8dc6-8291d2757c20",
   "metadata": {},
   "outputs": [],
   "source": [
    "np.max(arr4,axis=0)"
   ]
  },
  {
   "cell_type": "code",
   "execution_count": null,
   "id": "1f21d39b-e27f-40b0-8169-8216b1f6613c",
   "metadata": {},
   "outputs": [],
   "source": [
    "np.max(arr4,axis=1)"
   ]
  },
  {
   "cell_type": "code",
   "execution_count": null,
   "id": "3865855b-2a1a-4a30-b975-8ac3aa0f2b20",
   "metadata": {},
   "outputs": [],
   "source": [
    "np.min(arr4,axis=0)"
   ]
  },
  {
   "cell_type": "code",
   "execution_count": null,
   "id": "cb4e3054-a038-43b2-99c9-100e53f01b98",
   "metadata": {},
   "outputs": [],
   "source": [
    "np.min(arr4,axis=1)"
   ]
  },
  {
   "cell_type": "code",
   "execution_count": null,
   "id": "901ce4df-6633-4e4a-abff-d349c0634b9b",
   "metadata": {},
   "outputs": [],
   "source": [
    "np.sum(arr4)"
   ]
  },
  {
   "cell_type": "code",
   "execution_count": null,
   "id": "12436197-4e71-49bd-99d4-57680d98a9a8",
   "metadata": {},
   "outputs": [],
   "source": [
    "np.sum(arr4,axis=0)"
   ]
  },
  {
   "cell_type": "code",
   "execution_count": null,
   "id": "2d6710e4-d4ff-4185-8ca0-823d0687b555",
   "metadata": {},
   "outputs": [],
   "source": [
    "np.prod(arr4,axis=1)"
   ]
  },
  {
   "cell_type": "markdown",
   "id": "146c0a17-1df8-4669-a381-10e50fd73a45",
   "metadata": {},
   "source": [
    "### var, std,mean,median"
   ]
  },
  {
   "cell_type": "code",
   "execution_count": null,
   "id": "786ca365-059c-4630-9d6d-4d9f1f9b1c4f",
   "metadata": {},
   "outputs": [],
   "source": [
    "np.var(arr4,axis=1)"
   ]
  },
  {
   "cell_type": "code",
   "execution_count": null,
   "id": "a159de28-df78-4f18-b29f-df17589132f6",
   "metadata": {},
   "outputs": [],
   "source": [
    "np.std(arr4,axis=1)"
   ]
  },
  {
   "cell_type": "code",
   "execution_count": null,
   "id": "b6bdcee2-093d-491d-8e8c-2a8b59370d96",
   "metadata": {},
   "outputs": [],
   "source": [
    "np.mean(arr4)"
   ]
  },
  {
   "cell_type": "code",
   "execution_count": null,
   "id": "5e2b7df8-7255-4779-a371-65e10a495d02",
   "metadata": {},
   "outputs": [],
   "source": [
    "np.median(arr4)"
   ]
  },
  {
   "cell_type": "markdown",
   "id": "119f3fcc-85f5-4ec4-b5f4-32592d56f643",
   "metadata": {},
   "source": [
    "### sin , log , exp , round , floor , ciel , dot"
   ]
  },
  {
   "cell_type": "code",
   "execution_count": null,
   "id": "3e321343-02c9-4bd8-ac0e-89acddd78144",
   "metadata": {},
   "outputs": [],
   "source": [
    "np.sin(arr4)"
   ]
  },
  {
   "cell_type": "code",
   "execution_count": null,
   "id": "f6727180-b4b6-4dc0-9633-e3b198d8d128",
   "metadata": {},
   "outputs": [],
   "source": [
    "np.exp(arr4)"
   ]
  },
  {
   "cell_type": "code",
   "execution_count": null,
   "id": "344da021-b98c-4043-8237-4dabbf8fbef0",
   "metadata": {},
   "outputs": [],
   "source": [
    "np.log(arr4)"
   ]
  },
  {
   "cell_type": "code",
   "execution_count": null,
   "id": "93232256-eecd-4aaa-821a-a7196f4c64cc",
   "metadata": {},
   "outputs": [],
   "source": [
    "arr1 = np.arange(0,12).reshape(3,4)\n",
    "arr2 = np.arange(24,36).reshape(4,3)\n",
    "arr1,arr2"
   ]
  },
  {
   "cell_type": "code",
   "execution_count": null,
   "id": "712ddac6-a132-4827-b4ff-f319f6a6e0d5",
   "metadata": {},
   "outputs": [],
   "source": [
    "np.dot(arr1,arr2)"
   ]
  },
  {
   "cell_type": "code",
   "execution_count": null,
   "id": "f9936f97-963a-4751-9009-c083506a25e2",
   "metadata": {},
   "outputs": [],
   "source": [
    "arr5 = np.random.random((3,5))\n",
    "arr5"
   ]
  },
  {
   "cell_type": "code",
   "execution_count": null,
   "id": "f01b948a-5fd7-4d8b-9d79-90011946391d",
   "metadata": {},
   "outputs": [],
   "source": [
    "arr5.round()"
   ]
  },
  {
   "cell_type": "code",
   "execution_count": null,
   "id": "c91710f7-a484-4b79-8913-705227ed3fcb",
   "metadata": {},
   "outputs": [],
   "source": [
    "np.round(arr5)"
   ]
  },
  {
   "cell_type": "code",
   "execution_count": null,
   "id": "82fd5e88-57d9-4810-9262-03f10d985a97",
   "metadata": {},
   "outputs": [],
   "source": [
    "np.floor(arr5)"
   ]
  },
  {
   "cell_type": "raw",
   "id": "dee546b6-7bc8-48b1-8e9f-cc03f5e3e2e3",
   "metadata": {},
   "source": [
    "+---------------------------------------------------------------+------------------------+\n",
    "| Function     | Description                                | +3.7 | -3.7 | +2.5 | +3.5 |\n",
    "+-------------+-------------------------------------+------+-------+------+------+-------+\n",
    "| np.floor()  | Round down negative(−∞)                     | 3.0  | -4.0  | 2.0  | 3.0  |\n",
    "| np.ceil()   | Round up positive(+∞)                       | 4.0  | -3.0  | 3.0  | 4.0  |\n",
    "| np.trunc()  | Remove decimals (toward 0)                  | 3.0  | -3.0  | 2.0  | 3.0  |\n",
    "| np.round()  | Round to nearest (half to even)             | 4.0  | -4.0  | 2.0  | 4.0  |\n",
    "+-------------+-------------------------------------+------+-------+------+------+-------+\n"
   ]
  },
  {
   "cell_type": "markdown",
   "id": "28fad183-57be-4540-b416-add62890693e",
   "metadata": {},
   "source": [
    "# Indexing and Slicing"
   ]
  },
  {
   "cell_type": "code",
   "execution_count": null,
   "id": "42a38a84-dcc1-4e57-9488-ff6f83921c48",
   "metadata": {},
   "outputs": [],
   "source": [
    "a1 = np.arange(10)\n",
    "a2 = np.arange(12).reshape(3,4)\n",
    "a3 = np.arange(8).reshape(2,2,2)\n",
    "\n",
    "a3"
   ]
  },
  {
   "cell_type": "code",
   "execution_count": null,
   "id": "0d727ec9-4787-4262-8e56-56c32b200957",
   "metadata": {},
   "outputs": [],
   "source": [
    "a1[0:3]"
   ]
  },
  {
   "cell_type": "code",
   "execution_count": null,
   "id": "da45159b-c2ea-4f77-9eac-137c98d1512e",
   "metadata": {},
   "outputs": [],
   "source": [
    "a1[1::2]   # start,stop,step"
   ]
  },
  {
   "cell_type": "code",
   "execution_count": null,
   "id": "aeba94c7-a4e2-4ef5-a9f3-01179d71dc3e",
   "metadata": {},
   "outputs": [],
   "source": [
    "a2"
   ]
  },
  {
   "cell_type": "code",
   "execution_count": null,
   "id": "e1dd272e-5e0e-41e6-b9fc-975d4d00c171",
   "metadata": {},
   "outputs": [],
   "source": [
    "a2[1,1],a2[1,0]"
   ]
  },
  {
   "cell_type": "code",
   "execution_count": null,
   "id": "94e76357-ee6d-4472-b75e-db7a09ec5259",
   "metadata": {},
   "outputs": [],
   "source": [
    "a3"
   ]
  },
  {
   "cell_type": "code",
   "execution_count": null,
   "id": "62de77b8-3ddd-489c-9eea-7d81c1ec60ee",
   "metadata": {},
   "outputs": [],
   "source": [
    "a3[0,1,1]"
   ]
  },
  {
   "cell_type": "code",
   "execution_count": null,
   "id": "5a151a94-4582-40ba-b229-5b5d6abde4cc",
   "metadata": {},
   "outputs": [],
   "source": [
    "a3[1,1,0]"
   ]
  },
  {
   "cell_type": "code",
   "execution_count": 33,
   "id": "2d8c2c49-2ac7-488a-a5fd-19428c2e5780",
   "metadata": {},
   "outputs": [
    {
     "data": {
      "text/plain": [
       "array([[ 5.,  6.],\n",
       "       [ 9., 10.]])"
      ]
     },
     "execution_count": 33,
     "metadata": {},
     "output_type": "execute_result"
    }
   ],
   "source": [
    "a2[1:3,1:3]      # row start:row stop , col start:col stop"
   ]
  },
  {
   "cell_type": "code",
   "execution_count": 34,
   "id": "bff9bf87-7b63-4444-9b86-1273ceb6c8a9",
   "metadata": {},
   "outputs": [
    {
     "data": {
      "text/plain": [
       "array([[ 0.,  2.],\n",
       "       [ 8., 10.]])"
      ]
     },
     "execution_count": 34,
     "metadata": {},
     "output_type": "execute_result"
    }
   ],
   "source": [
    "a2[0::2,0::2]    # row start:row stop:step , col start:col stop:step"
   ]
  },
  {
   "cell_type": "code",
   "execution_count": 35,
   "id": "7d4da14c-90b1-441e-b479-eb99c027d1f8",
   "metadata": {},
   "outputs": [
    {
     "data": {
      "text/plain": [
       "array([[ 4.,  6.],\n",
       "       [ 8., 10.]])"
      ]
     },
     "execution_count": 35,
     "metadata": {},
     "output_type": "execute_result"
    }
   ],
   "source": [
    "a2[1:,0:3:2]"
   ]
  },
  {
   "cell_type": "code",
   "execution_count": 36,
   "id": "2454fcca-fbba-49b7-8019-93a1998880fd",
   "metadata": {},
   "outputs": [
    {
     "data": {
      "text/plain": [
       "array([0., 1., 2., 3.])"
      ]
     },
     "execution_count": 36,
     "metadata": {},
     "output_type": "execute_result"
    }
   ],
   "source": [
    "a2[0]"
   ]
  },
  {
   "cell_type": "code",
   "execution_count": 37,
   "id": "78c6fe9a-6aad-4348-bd9e-3b1ac4fb7141",
   "metadata": {},
   "outputs": [
    {
     "data": {
      "text/plain": [
       "array([ 2.,  6., 10.])"
      ]
     },
     "execution_count": 37,
     "metadata": {},
     "output_type": "execute_result"
    }
   ],
   "source": [
    "a2[:,2]"
   ]
  },
  {
   "cell_type": "code",
   "execution_count": 38,
   "id": "346de4ed-a0bf-41c7-9611-d217058774c7",
   "metadata": {},
   "outputs": [
    {
     "data": {
      "text/plain": [
       "array([[ 5.,  6.],\n",
       "       [ 9., 10.]])"
      ]
     },
     "execution_count": 38,
     "metadata": {},
     "output_type": "execute_result"
    }
   ],
   "source": [
    "a2[1:3,1:3]"
   ]
  },
  {
   "cell_type": "code",
   "execution_count": 39,
   "id": "f355e8c0-0030-4625-b74f-c2ed9f17a582",
   "metadata": {},
   "outputs": [
    {
     "data": {
      "text/plain": [
       "array([[ 0.,  1.,  2.,  3.],\n",
       "       [ 4.,  5.,  6.,  7.],\n",
       "       [ 8.,  9., 10., 11.]])"
      ]
     },
     "execution_count": 39,
     "metadata": {},
     "output_type": "execute_result"
    }
   ],
   "source": [
    "a2"
   ]
  },
  {
   "cell_type": "code",
   "execution_count": 40,
   "id": "0938fb07-a823-486b-bbd0-8e0600e0d65c",
   "metadata": {},
   "outputs": [
    {
     "data": {
      "text/plain": [
       "array([[ 0.,  3.],\n",
       "       [ 8., 11.]])"
      ]
     },
     "execution_count": 40,
     "metadata": {},
     "output_type": "execute_result"
    }
   ],
   "source": [
    "a2[::2,::3]"
   ]
  },
  {
   "cell_type": "code",
   "execution_count": 41,
   "id": "42708943-321c-4b8a-852d-cea132813d28",
   "metadata": {},
   "outputs": [
    {
     "data": {
      "text/plain": [
       "array([[ 1.,  3.],\n",
       "       [ 9., 11.]])"
      ]
     },
     "execution_count": 41,
     "metadata": {},
     "output_type": "execute_result"
    }
   ],
   "source": [
    "a2[::2,1::2]"
   ]
  },
  {
   "cell_type": "code",
   "execution_count": 42,
   "id": "643e7009-7f64-43d9-ac0c-3abf905436f2",
   "metadata": {},
   "outputs": [
    {
     "data": {
      "text/plain": [
       "array([4., 7.])"
      ]
     },
     "execution_count": 42,
     "metadata": {},
     "output_type": "execute_result"
    }
   ],
   "source": [
    "a2[1,::3]"
   ]
  },
  {
   "cell_type": "code",
   "execution_count": 43,
   "id": "93a44130-96fc-4d16-a6f6-9d26c2f4a4d3",
   "metadata": {},
   "outputs": [
    {
     "data": {
      "text/plain": [
       "array([[1., 2., 3.],\n",
       "       [5., 6., 7.]])"
      ]
     },
     "execution_count": 43,
     "metadata": {},
     "output_type": "execute_result"
    }
   ],
   "source": [
    "a2[:2,1:]"
   ]
  },
  {
   "cell_type": "code",
   "execution_count": 44,
   "id": "75e7ec18-d0b2-45af-8a7f-ae5086f9c8d7",
   "metadata": {},
   "outputs": [
    {
     "data": {
      "text/plain": [
       "array([[[ 0,  1,  2],\n",
       "        [ 3,  4,  5],\n",
       "        [ 6,  7,  8]],\n",
       "\n",
       "       [[ 9, 10, 11],\n",
       "        [12, 13, 14],\n",
       "        [15, 16, 17]],\n",
       "\n",
       "       [[18, 19, 20],\n",
       "        [21, 22, 23],\n",
       "        [24, 25, 26]]])"
      ]
     },
     "execution_count": 44,
     "metadata": {},
     "output_type": "execute_result"
    }
   ],
   "source": [
    "a3 = np.arange(27).reshape(3,3,3)\n",
    "a3"
   ]
  },
  {
   "cell_type": "code",
   "execution_count": 45,
   "id": "db1444ab-af12-453e-b4aa-47f435989592",
   "metadata": {},
   "outputs": [
    {
     "data": {
      "text/plain": [
       "array([[ 9, 10, 11],\n",
       "       [12, 13, 14],\n",
       "       [15, 16, 17]])"
      ]
     },
     "execution_count": 45,
     "metadata": {},
     "output_type": "execute_result"
    }
   ],
   "source": [
    "a3[1]"
   ]
  },
  {
   "cell_type": "code",
   "execution_count": 46,
   "id": "17dd43a1-aeff-43aa-9144-cec105d1013b",
   "metadata": {},
   "outputs": [
    {
     "data": {
      "text/plain": [
       "array([[[ 0,  1,  2],\n",
       "        [ 3,  4,  5],\n",
       "        [ 6,  7,  8]],\n",
       "\n",
       "       [[18, 19, 20],\n",
       "        [21, 22, 23],\n",
       "        [24, 25, 26]]])"
      ]
     },
     "execution_count": 46,
     "metadata": {},
     "output_type": "execute_result"
    }
   ],
   "source": [
    "a3[::2]"
   ]
  },
  {
   "cell_type": "code",
   "execution_count": 48,
   "id": "e50fec2e-b345-45ab-b6fb-8c5669fe2970",
   "metadata": {},
   "outputs": [
    {
     "data": {
      "text/plain": [
       "array([3, 4, 5])"
      ]
     },
     "execution_count": 48,
     "metadata": {},
     "output_type": "execute_result"
    }
   ],
   "source": [
    "a3[0,1,:]"
   ]
  },
  {
   "cell_type": "code",
   "execution_count": 49,
   "id": "251bd244-4593-4237-9fe9-1dca1e9da4c3",
   "metadata": {},
   "outputs": [
    {
     "data": {
      "text/plain": [
       "array([10, 13, 16])"
      ]
     },
     "execution_count": 49,
     "metadata": {},
     "output_type": "execute_result"
    }
   ],
   "source": [
    "a3[1,:,1]"
   ]
  },
  {
   "cell_type": "code",
   "execution_count": 51,
   "id": "eb30a4c8-b35b-4268-a316-8ab4a8e5c11b",
   "metadata": {},
   "outputs": [
    {
     "data": {
      "text/plain": [
       "array([[22, 23],\n",
       "       [25, 26]])"
      ]
     },
     "execution_count": 51,
     "metadata": {},
     "output_type": "execute_result"
    }
   ],
   "source": [
    "a3[2,1:,1:]"
   ]
  },
  {
   "cell_type": "code",
   "execution_count": 54,
   "id": "9896dc7d-23b1-4046-b6fd-e2862893c6e1",
   "metadata": {},
   "outputs": [
    {
     "data": {
      "text/plain": [
       "array([[ 0,  2],\n",
       "       [18, 20]])"
      ]
     },
     "execution_count": 54,
     "metadata": {},
     "output_type": "execute_result"
    }
   ],
   "source": [
    "a3[0::2,0,0::2]"
   ]
  },
  {
   "cell_type": "code",
   "execution_count": 52,
   "id": "760e0d10-e619-46b5-a981-61d8a9b97908",
   "metadata": {},
   "outputs": [
    {
     "data": {
      "text/plain": [
       "array([[[ 0,  1,  2],\n",
       "        [ 3,  4,  5],\n",
       "        [ 6,  7,  8]],\n",
       "\n",
       "       [[ 9, 10, 11],\n",
       "        [12, 13, 14],\n",
       "        [15, 16, 17]],\n",
       "\n",
       "       [[18, 19, 20],\n",
       "        [21, 22, 23],\n",
       "        [24, 25, 26]]])"
      ]
     },
     "execution_count": 52,
     "metadata": {},
     "output_type": "execute_result"
    }
   ],
   "source": [
    "a3"
   ]
  },
  {
   "cell_type": "code",
   "execution_count": null,
   "id": "20165a90-576e-4a70-871e-9c42f0049f79",
   "metadata": {},
   "outputs": [],
   "source": []
  },
  {
   "cell_type": "markdown",
   "id": "c4aa1528-1d94-40bc-a2e3-60bb34ceaa9b",
   "metadata": {},
   "source": [
    "# Iterating"
   ]
  },
  {
   "cell_type": "code",
   "execution_count": 55,
   "id": "e85d95bd-73ad-42ca-8e40-66ac7ff95eb0",
   "metadata": {},
   "outputs": [
    {
     "name": "stdout",
     "output_type": "stream",
     "text": [
      "0\n",
      "1\n",
      "2\n",
      "3\n",
      "4\n",
      "5\n",
      "6\n",
      "7\n",
      "8\n",
      "9\n"
     ]
    }
   ],
   "source": [
    "for i in a1:\n",
    "    print(i)"
   ]
  },
  {
   "cell_type": "code",
   "execution_count": 56,
   "id": "596581d1-7573-454f-91a4-c0cfc849f640",
   "metadata": {},
   "outputs": [
    {
     "name": "stdout",
     "output_type": "stream",
     "text": [
      "[0. 1. 2. 3.]\n",
      "\n",
      "[4. 5. 6. 7.]\n",
      "\n",
      "[ 8.  9. 10. 11.]\n",
      "\n"
     ]
    }
   ],
   "source": [
    "for i in a2:\n",
    "    print(i)\n",
    "    print()"
   ]
  },
  {
   "cell_type": "code",
   "execution_count": 57,
   "id": "4408d1af-944b-476a-a51c-c4ff67678434",
   "metadata": {},
   "outputs": [
    {
     "name": "stdout",
     "output_type": "stream",
     "text": [
      "[[0 1 2]\n",
      " [3 4 5]\n",
      " [6 7 8]]\n",
      "\n",
      "[[ 9 10 11]\n",
      " [12 13 14]\n",
      " [15 16 17]]\n",
      "\n",
      "[[18 19 20]\n",
      " [21 22 23]\n",
      " [24 25 26]]\n",
      "\n"
     ]
    }
   ],
   "source": [
    "for i in a3:\n",
    "    print(i)\n",
    "    print()"
   ]
  },
  {
   "cell_type": "markdown",
   "id": "5a05ea7d-7be5-4a0f-b2c2-a87d2613bb1e",
   "metadata": {},
   "source": [
    "### np.nditer()"
   ]
  },
  {
   "cell_type": "code",
   "execution_count": 58,
   "id": "d308720b-6de6-484e-bd59-2e946092f065",
   "metadata": {},
   "outputs": [
    {
     "name": "stdout",
     "output_type": "stream",
     "text": [
      "0\n",
      "1\n",
      "2\n",
      "3\n",
      "4\n",
      "5\n",
      "6\n",
      "7\n",
      "8\n",
      "9\n",
      "10\n",
      "11\n",
      "12\n",
      "13\n",
      "14\n",
      "15\n",
      "16\n",
      "17\n",
      "18\n",
      "19\n",
      "20\n",
      "21\n",
      "22\n",
      "23\n",
      "24\n",
      "25\n",
      "26\n"
     ]
    }
   ],
   "source": [
    "for i in np.nditer(a3):\n",
    "    print(i)"
   ]
  },
  {
   "cell_type": "markdown",
   "id": "4cf7181c-4051-4503-8c62-ff6e7df7ce88",
   "metadata": {},
   "source": [
    "# Reshaping"
   ]
  },
  {
   "cell_type": "code",
   "execution_count": 70,
   "id": "e14a6cbf-0c15-4a07-9b2e-deff6d15e916",
   "metadata": {},
   "outputs": [
    {
     "data": {
      "text/plain": [
       "array([[ 0.,  1.,  2.],\n",
       "       [ 3.,  4.,  5.],\n",
       "       [ 6.,  7.,  8.],\n",
       "       [ 9., 10., 11.]])"
      ]
     },
     "execution_count": 70,
     "metadata": {},
     "output_type": "execute_result"
    }
   ],
   "source": [
    "a2.reshape(4,3)"
   ]
  },
  {
   "cell_type": "markdown",
   "id": "3546d67b-8c53-4a90-8dc2-f6bb8ca42071",
   "metadata": {},
   "source": [
    "### Transpose"
   ]
  },
  {
   "cell_type": "code",
   "execution_count": 60,
   "id": "5eb87bfa-44ec-4f60-9c70-03c8149fe467",
   "metadata": {},
   "outputs": [
    {
     "data": {
      "text/plain": [
       "array([[ 0.,  4.,  8.],\n",
       "       [ 1.,  5.,  9.],\n",
       "       [ 2.,  6., 10.],\n",
       "       [ 3.,  7., 11.]])"
      ]
     },
     "execution_count": 60,
     "metadata": {},
     "output_type": "execute_result"
    }
   ],
   "source": [
    "a2.transpose()"
   ]
  },
  {
   "cell_type": "code",
   "execution_count": 61,
   "id": "e27c80ea-a7be-4c0b-b776-eb9b2c5a01c6",
   "metadata": {},
   "outputs": [
    {
     "data": {
      "text/plain": [
       "array([[ 0.,  4.,  8.],\n",
       "       [ 1.,  5.,  9.],\n",
       "       [ 2.,  6., 10.],\n",
       "       [ 3.,  7., 11.]])"
      ]
     },
     "execution_count": 61,
     "metadata": {},
     "output_type": "execute_result"
    }
   ],
   "source": [
    "a2.T"
   ]
  },
  {
   "cell_type": "markdown",
   "id": "6aef784b-78aa-4da2-8175-bfc60b14b6f9",
   "metadata": {},
   "source": [
    "### Ravel"
   ]
  },
  {
   "cell_type": "code",
   "execution_count": 79,
   "id": "6c858a72-1f2c-411e-8865-f2448648baec",
   "metadata": {},
   "outputs": [],
   "source": [
    "rav = a2.ravel()"
   ]
  },
  {
   "cell_type": "raw",
   "id": "37226e0e-758e-4811-ba6f-4038483451a8",
   "metadata": {},
   "source": [
    "when we update the value through ravel it will update the original matrix "
   ]
  },
  {
   "cell_type": "code",
   "execution_count": 88,
   "id": "741edd85-f3c7-40c4-888b-a927763594da",
   "metadata": {},
   "outputs": [
    {
     "data": {
      "text/plain": [
       "(array([[ 1.,  1.,  2.,  3.],\n",
       "        [ 4.,  5.,  6.,  7.],\n",
       "        [ 8.,  9., 10., 11.]]),\n",
       " array([ 1.,  1.,  2.,  3.,  4.,  5.,  6.,  7.,  8.,  9., 10., 11.]))"
      ]
     },
     "execution_count": 88,
     "metadata": {},
     "output_type": "execute_result"
    }
   ],
   "source": [
    "rav[0] = 1\n",
    "a2,rav"
   ]
  },
  {
   "cell_type": "code",
   "execution_count": 89,
   "id": "1bf42c48-0885-4510-991d-13b5133997ad",
   "metadata": {},
   "outputs": [],
   "source": [
    "flt = a2.flatten()"
   ]
  },
  {
   "cell_type": "code",
   "execution_count": 91,
   "id": "cdfc95c7-4823-4f36-9f1b-85a6e53f8b1a",
   "metadata": {},
   "outputs": [],
   "source": [
    "flt[1] = 12"
   ]
  },
  {
   "cell_type": "code",
   "execution_count": 97,
   "id": "6c4e6b34-9539-499f-ae0f-b04a2843c2a1",
   "metadata": {},
   "outputs": [
    {
     "data": {
      "text/plain": [
       "(array([[ 1.,  1.,  2.,  3.],\n",
       "        [ 4.,  5.,  6.,  7.],\n",
       "        [ 8.,  9., 10., 11.]]),\n",
       " array([ 1., 12.,  2.,  3.,  4.,  5.,  6.,  7.,  8.,  9., 10., 11.]))"
      ]
     },
     "execution_count": 97,
     "metadata": {},
     "output_type": "execute_result"
    }
   ],
   "source": [
    "a2,flt"
   ]
  },
  {
   "cell_type": "markdown",
   "id": "d470382f-f945-4eaa-9b96-0c916f49ff42",
   "metadata": {},
   "source": [
    "# Stacking"
   ]
  },
  {
   "cell_type": "code",
   "execution_count": 104,
   "id": "9df494c8-2c0b-42f5-8895-67d62c88e702",
   "metadata": {},
   "outputs": [
    {
     "data": {
      "text/plain": [
       "(array([[ 1.,  1.,  2.,  3.],\n",
       "        [ 4.,  5.,  6.,  7.],\n",
       "        [ 8.,  9., 10., 11.]]),\n",
       " array([[12, 13, 14],\n",
       "        [15, 16, 17],\n",
       "        [18, 19, 20],\n",
       "        [21, 22, 23]]))"
      ]
     },
     "execution_count": 104,
     "metadata": {},
     "output_type": "execute_result"
    }
   ],
   "source": [
    "a2,arr2"
   ]
  },
  {
   "cell_type": "code",
   "execution_count": null,
   "id": "922e6f8c-6f59-4351-b47c-f54e3f36f56e",
   "metadata": {},
   "outputs": [],
   "source": []
  },
  {
   "cell_type": "raw",
   "id": "c9954a8c-dcdb-4ee8-bec0-37c164c3a2fb",
   "metadata": {},
   "source": [
    "hstack rows remains same\n",
    "vstack clos remains same"
   ]
  },
  {
   "cell_type": "code",
   "execution_count": 107,
   "id": "58ad7ca5-41af-40e8-a9b5-a50b7542265b",
   "metadata": {},
   "outputs": [
    {
     "data": {
      "text/plain": [
       "array([[ 1.,  1.,  2.,  3.,  1.,  1.,  2.,  3.],\n",
       "       [ 4.,  5.,  6.,  7.,  4.,  5.,  6.,  7.],\n",
       "       [ 8.,  9., 10., 11.,  8.,  9., 10., 11.]])"
      ]
     },
     "execution_count": 107,
     "metadata": {},
     "output_type": "execute_result"
    }
   ],
   "source": [
    "np.hstack((a2,a2))"
   ]
  },
  {
   "cell_type": "code",
   "execution_count": 108,
   "id": "7cb3cf5d-ba73-4afb-a9c6-d321ce01dd8b",
   "metadata": {},
   "outputs": [
    {
     "data": {
      "text/plain": [
       "array([[ 1.,  1.,  2.,  3.],\n",
       "       [ 4.,  5.,  6.,  7.],\n",
       "       [ 8.,  9., 10., 11.],\n",
       "       [ 1.,  1.,  2.,  3.],\n",
       "       [ 4.,  5.,  6.,  7.],\n",
       "       [ 8.,  9., 10., 11.]])"
      ]
     },
     "execution_count": 108,
     "metadata": {},
     "output_type": "execute_result"
    }
   ],
   "source": [
    "np.vstack((a2,a2))"
   ]
  },
  {
   "cell_type": "markdown",
   "id": "dc357886-f3e4-41a6-b693-d47f9cb765c0",
   "metadata": {},
   "source": [
    "# Splitting"
   ]
  },
  {
   "cell_type": "raw",
   "id": "e64d844b-da46-4d36-b0e8-f2f8e0e15964",
   "metadata": {},
   "source": [
    "hsplit split according to cols\n",
    "vsplit split acc to rows"
   ]
  },
  {
   "cell_type": "code",
   "execution_count": 109,
   "id": "5352cff5-da1f-4172-9266-c6b71c43653d",
   "metadata": {},
   "outputs": [
    {
     "data": {
      "text/plain": [
       "array([[[[ 3,  4,  5],\n",
       "         [ 6,  7,  8]],\n",
       "\n",
       "        [[ 1,  1,  1],\n",
       "         [ 2,  2,  2]]],\n",
       "\n",
       "\n",
       "       [[[ 9, 10, 11],\n",
       "         [12, 13, 14]],\n",
       "\n",
       "        [[ 3,  3,  3],\n",
       "         [ 4,  4,  4]]]])"
      ]
     },
     "execution_count": 109,
     "metadata": {},
     "output_type": "execute_result"
    }
   ],
   "source": [
    "a4"
   ]
  },
  {
   "cell_type": "code",
   "execution_count": 139,
   "id": "d3202436-7cf0-4461-9479-36e5c90b01f2",
   "metadata": {},
   "outputs": [
    {
     "data": {
      "text/plain": [
       "[array([[[[ 3,  4,  5],\n",
       "          [ 6,  7,  8]]],\n",
       " \n",
       " \n",
       "        [[[ 9, 10, 11],\n",
       "          [12, 13, 14]]]]),\n",
       " array([[[[1, 1, 1],\n",
       "          [2, 2, 2]]],\n",
       " \n",
       " \n",
       "        [[[3, 3, 3],\n",
       "          [4, 4, 4]]]])]"
      ]
     },
     "execution_count": 139,
     "metadata": {},
     "output_type": "execute_result"
    }
   ],
   "source": [
    "np.hsplit(a4,2)"
   ]
  },
  {
   "cell_type": "code",
   "execution_count": 142,
   "id": "2ceb81be-24fc-4e44-b1af-ff0b246610c1",
   "metadata": {},
   "outputs": [
    {
     "data": {
      "text/plain": [
       "[array([[[[3, 4, 5],\n",
       "          [6, 7, 8]],\n",
       " \n",
       "         [[1, 1, 1],\n",
       "          [2, 2, 2]]]]),\n",
       " array([[[[ 9, 10, 11],\n",
       "          [12, 13, 14]],\n",
       " \n",
       "         [[ 3,  3,  3],\n",
       "          [ 4,  4,  4]]]])]"
      ]
     },
     "execution_count": 142,
     "metadata": {},
     "output_type": "execute_result"
    }
   ],
   "source": [
    "np.vsplit(a4,2)"
   ]
  },
  {
   "cell_type": "code",
   "execution_count": 124,
   "id": "5dece6b0-9d29-4552-8f53-8cf23d81037f",
   "metadata": {},
   "outputs": [],
   "source": [
    "a = np.array([[1, 2, 3, 4],\n",
    "              [5, 6, 7, 8]])\n"
   ]
  },
  {
   "cell_type": "code",
   "execution_count": 163,
   "id": "03006305-46ec-4b33-aae3-2fe46bbc5f82",
   "metadata": {},
   "outputs": [
    {
     "data": {
      "text/plain": [
       "[array([[1, 2],\n",
       "        [5, 6]]),\n",
       " array([[3, 4],\n",
       "        [7, 8]])]"
      ]
     },
     "execution_count": 163,
     "metadata": {},
     "output_type": "execute_result"
    }
   ],
   "source": [
    "np.hsplit(a,2)"
   ]
  },
  {
   "cell_type": "code",
   "execution_count": 164,
   "id": "bf828499-f4b7-4828-a85d-9c875deb1b93",
   "metadata": {},
   "outputs": [
    {
     "data": {
      "text/plain": [
       "[array([[1, 2, 3, 4]]), array([[5, 6, 7, 8]])]"
      ]
     },
     "execution_count": 164,
     "metadata": {},
     "output_type": "execute_result"
    }
   ],
   "source": [
    "np.vsplit(a,2)"
   ]
  },
  {
   "cell_type": "code",
   "execution_count": null,
   "id": "9a3a704a-a85e-4cd2-aedf-c9fb5073ee9c",
   "metadata": {},
   "outputs": [],
   "source": []
  },
  {
   "cell_type": "code",
   "execution_count": 132,
   "id": "960ac19e-ac1f-4c2c-92ec-b2ef9ffc0b29",
   "metadata": {},
   "outputs": [
    {
     "data": {
      "text/plain": [
       "array([[1, 2, 3, 4, 1, 2, 3, 4],\n",
       "       [5, 6, 7, 8, 5, 6, 7, 8]])"
      ]
     },
     "execution_count": 132,
     "metadata": {},
     "output_type": "execute_result"
    }
   ],
   "source": [
    " a11 = np.hstack((a,a))\n",
    "a11"
   ]
  },
  {
   "cell_type": "code",
   "execution_count": 136,
   "id": "3ffc4d13-0102-4624-adf5-060d428cfedf",
   "metadata": {},
   "outputs": [
    {
     "name": "stdout",
     "output_type": "stream",
     "text": [
      "[array([[1, 2, 3, 4],\n",
      "       [5, 6, 7, 8]]), array([[1, 2, 3, 4],\n",
      "       [5, 6, 7, 8]])]\n"
     ]
    },
    {
     "data": {
      "text/plain": [
       "list"
      ]
     },
     "execution_count": 136,
     "metadata": {},
     "output_type": "execute_result"
    }
   ],
   "source": [
    "a12 = np.hsplit(a11,2)\n",
    "print(a12)\n",
    "type(a12)"
   ]
  },
  {
   "cell_type": "code",
   "execution_count": 144,
   "id": "c321055c-c755-4d55-84cc-43e36ab38348",
   "metadata": {},
   "outputs": [
    {
     "data": {
      "text/plain": [
       "[array([[[ 0,  1,  2]],\n",
       " \n",
       "        [[ 9, 10, 11]],\n",
       " \n",
       "        [[18, 19, 20]]]),\n",
       " array([[[ 3,  4,  5]],\n",
       " \n",
       "        [[12, 13, 14]],\n",
       " \n",
       "        [[21, 22, 23]]]),\n",
       " array([[[ 6,  7,  8]],\n",
       " \n",
       "        [[15, 16, 17]],\n",
       " \n",
       "        [[24, 25, 26]]])]"
      ]
     },
     "execution_count": 144,
     "metadata": {},
     "output_type": "execute_result"
    }
   ],
   "source": [
    "np.hsplit(a3,3)"
   ]
  },
  {
   "cell_type": "code",
   "execution_count": 161,
   "id": "e873d6c4-853b-40b0-9e67-1e2c3cebf6f8",
   "metadata": {},
   "outputs": [
    {
     "data": {
      "text/plain": [
       "[array([[0, 1, 2, 3]]), array([[4, 5, 6, 7]]), array([[ 8,  9, 10, 11]])]"
      ]
     },
     "execution_count": 161,
     "metadata": {},
     "output_type": "execute_result"
    }
   ],
   "source": [
    "np.vsplit(a3,3)"
   ]
  },
  {
   "cell_type": "code",
   "execution_count": 152,
   "id": "c385ece8-d5ef-430d-b51d-ce5a6d58fda7",
   "metadata": {},
   "outputs": [],
   "source": [
    "a3 = np.arange(12).reshape(3,4)"
   ]
  },
  {
   "cell_type": "code",
   "execution_count": 158,
   "id": "3370314e-e06d-4a13-881a-db5791a59125",
   "metadata": {},
   "outputs": [
    {
     "data": {
      "text/plain": [
       "array([[ 0,  1,  2,  3],\n",
       "       [ 4,  5,  6,  7],\n",
       "       [ 8,  9, 10, 11]])"
      ]
     },
     "execution_count": 158,
     "metadata": {},
     "output_type": "execute_result"
    }
   ],
   "source": [
    "a3"
   ]
  },
  {
   "cell_type": "code",
   "execution_count": 159,
   "id": "411300cb-9b79-4b65-9cdc-edf2cd322ca6",
   "metadata": {},
   "outputs": [
    {
     "data": {
      "text/plain": [
       "[array([[0, 1],\n",
       "        [4, 5],\n",
       "        [8, 9]]),\n",
       " array([[ 2,  3],\n",
       "        [ 6,  7],\n",
       "        [10, 11]])]"
      ]
     },
     "execution_count": 159,
     "metadata": {},
     "output_type": "execute_result"
    }
   ],
   "source": [
    "np.hsplit(a3,2)"
   ]
  }
 ],
 "metadata": {
  "kernelspec": {
   "display_name": "Python 3 (ipykernel)",
   "language": "python",
   "name": "python3"
  },
  "language_info": {
   "codemirror_mode": {
    "name": "ipython",
    "version": 3
   },
   "file_extension": ".py",
   "mimetype": "text/x-python",
   "name": "python",
   "nbconvert_exporter": "python",
   "pygments_lexer": "ipython3",
   "version": "3.13.5"
  }
 },
 "nbformat": 4,
 "nbformat_minor": 5
}
