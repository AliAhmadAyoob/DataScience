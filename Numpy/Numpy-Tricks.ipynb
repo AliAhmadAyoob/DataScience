{
 "cells": [
  {
   "cell_type": "markdown",
   "id": "80057445-f0b0-49cb-b9ef-7d893bec664e",
   "metadata": {},
   "source": [
    "### np.sort\n",
    "- return the sorted copy of an array"
   ]
  },
  {
   "cell_type": "code",
   "execution_count": 1,
   "id": "3c25c1c0-1843-494d-b850-f4feace7c5f6",
   "metadata": {},
   "outputs": [],
   "source": [
    "import numpy as np"
   ]
  },
  {
   "cell_type": "code",
   "execution_count": 2,
   "id": "14d0cd46-9d65-4430-ba7c-1b241b1e5864",
   "metadata": {},
   "outputs": [
    {
     "data": {
      "text/plain": [
       "array([17, 23, 22, 22, 26, 16, 19, 28, 20, 27, 30, 31], dtype=int32)"
      ]
     },
     "execution_count": 2,
     "metadata": {},
     "output_type": "execute_result"
    }
   ],
   "source": [
    "a= np.random.randint(11,32,12)\n",
    "a"
   ]
  },
  {
   "cell_type": "code",
   "execution_count": 3,
   "id": "ccb47447-bc71-481b-b1f6-66c7320c9ec7",
   "metadata": {},
   "outputs": [
    {
     "data": {
      "text/plain": [
       "array([0.45064816, 0.08733738, 0.60539223, 0.83384267, 0.83745744,\n",
       "       0.1591465 , 0.03943353, 0.21084777, 0.42186809, 0.49766459])"
      ]
     },
     "execution_count": 3,
     "metadata": {},
     "output_type": "execute_result"
    }
   ],
   "source": [
    "b = np.random.rand(10)\n",
    "b"
   ]
  },
  {
   "cell_type": "markdown",
   "id": "8726be3c-faae-4ce9-a998-73686b662788",
   "metadata": {},
   "source": [
    "### np.random.rand :\n",
    "Create an array of the given shape and populate it with random samples from a uniform distribution over [0, 1)."
   ]
  },
  {
   "cell_type": "markdown",
   "id": "a4d61ca2-487a-4932-b52a-e1e0f4dc0f0e",
   "metadata": {},
   "source": [
    "### np.random.randint :\n",
    "is used to get random integers from low to high values. The low value is included while the high value is excluded in the calculations."
   ]
  },
  {
   "cell_type": "code",
   "execution_count": 4,
   "id": "a61bda87-570c-4a38-a976-955bc1c67818",
   "metadata": {},
   "outputs": [
    {
     "data": {
      "text/plain": [
       "array([[93, 65, 11, 59],\n",
       "       [68,  6,  3, 20],\n",
       "       [18, 94, 81, 90],\n",
       "       [40, 55, 25, 76],\n",
       "       [97, 70, 24, 51],\n",
       "       [18, 81, 99, 75]], dtype=int32)"
      ]
     },
     "execution_count": 4,
     "metadata": {},
     "output_type": "execute_result"
    }
   ],
   "source": [
    "b = np.random.randint(1,100,24).reshape(6,4)\n",
    "b"
   ]
  },
  {
   "cell_type": "code",
   "execution_count": 5,
   "id": "ebcb2433-3fce-4307-bf4c-6cdb2a5ccf63",
   "metadata": {},
   "outputs": [
    {
     "data": {
      "text/plain": [
       "array([16, 17, 19, 20, 22, 22, 23, 26, 27, 28, 30, 31], dtype=int32)"
      ]
     },
     "execution_count": 5,
     "metadata": {},
     "output_type": "execute_result"
    }
   ],
   "source": [
    "np.sort(a)"
   ]
  },
  {
   "cell_type": "markdown",
   "id": "c5b623c3-d7a9-4394-8001-2b2ea4490bec",
   "metadata": {},
   "source": [
    "- reverse order"
   ]
  },
  {
   "cell_type": "code",
   "execution_count": 6,
   "id": "d1abb02f-6fbe-4240-861c-3c8ecaae91c0",
   "metadata": {},
   "outputs": [
    {
     "data": {
      "text/plain": [
       "array([31, 30, 28, 27, 26, 23, 22, 22, 20, 19, 17, 16], dtype=int32)"
      ]
     },
     "execution_count": 6,
     "metadata": {},
     "output_type": "execute_result"
    }
   ],
   "source": [
    "np.sort(a)[::-1]"
   ]
  },
  {
   "cell_type": "markdown",
   "id": "44686530-dafc-47b7-ae7a-5f6bd185c370",
   "metadata": {},
   "source": [
    "- axis-wise"
   ]
  },
  {
   "cell_type": "code",
   "execution_count": 7,
   "id": "83efaa5d-f282-4d74-944c-711f0100fed6",
   "metadata": {},
   "outputs": [
    {
     "data": {
      "text/plain": [
       "array([[93, 65, 11, 59],\n",
       "       [68,  6,  3, 20],\n",
       "       [18, 94, 81, 90],\n",
       "       [40, 55, 25, 76],\n",
       "       [97, 70, 24, 51],\n",
       "       [18, 81, 99, 75]], dtype=int32)"
      ]
     },
     "execution_count": 7,
     "metadata": {},
     "output_type": "execute_result"
    }
   ],
   "source": [
    "b"
   ]
  },
  {
   "cell_type": "code",
   "execution_count": 8,
   "id": "f92238f0-a869-4b71-8a4e-6d17a26dab1f",
   "metadata": {},
   "outputs": [
    {
     "data": {
      "text/plain": [
       "array([[18,  6,  3, 20],\n",
       "       [18, 55, 11, 51],\n",
       "       [40, 65, 24, 59],\n",
       "       [68, 70, 25, 75],\n",
       "       [93, 81, 81, 76],\n",
       "       [97, 94, 99, 90]], dtype=int32)"
      ]
     },
     "execution_count": 8,
     "metadata": {},
     "output_type": "execute_result"
    }
   ],
   "source": [
    "np.sort(b,axis=0)\n",
    "# column-wise"
   ]
  },
  {
   "cell_type": "code",
   "execution_count": 9,
   "id": "8a6b1527-822b-4fd8-a192-0cdca9497d5c",
   "metadata": {},
   "outputs": [
    {
     "data": {
      "text/plain": [
       "array([[11, 59, 65, 93],\n",
       "       [ 3,  6, 20, 68],\n",
       "       [18, 81, 90, 94],\n",
       "       [25, 40, 55, 76],\n",
       "       [24, 51, 70, 97],\n",
       "       [18, 75, 81, 99]], dtype=int32)"
      ]
     },
     "execution_count": 9,
     "metadata": {},
     "output_type": "execute_result"
    }
   ],
   "source": [
    "np.sort(b,axis=1)\n",
    "# row-wise"
   ]
  },
  {
   "cell_type": "markdown",
   "id": "8407cf5a-75a0-4255-841c-f7533b67061e",
   "metadata": {},
   "source": [
    "# np.append\n",
    "- The numpy.append() appends values along the mentioned axis at the end of the array"
   ]
  },
  {
   "cell_type": "code",
   "execution_count": 10,
   "id": "905d3540-6272-4f86-9e4a-a865eb224655",
   "metadata": {},
   "outputs": [
    {
     "data": {
      "text/plain": [
       "array([ 17,  23,  22,  22,  26,  16,  19,  28,  20,  27,  30,  31, 120])"
      ]
     },
     "execution_count": 10,
     "metadata": {},
     "output_type": "execute_result"
    }
   ],
   "source": [
    "np.append(a,120)"
   ]
  },
  {
   "cell_type": "raw",
   "id": "49c2b06d-c417-411c-9edf-333e202aae87",
   "metadata": {},
   "source": [
    "Random random() Method\n",
    "\n",
    "The random() method returns a random floating number between 0 and 1."
   ]
  },
  {
   "cell_type": "code",
   "execution_count": 11,
   "id": "2c33ce75-0f24-4ef7-ad55-ef253e31cdcd",
   "metadata": {},
   "outputs": [
    {
     "data": {
      "text/plain": [
       "array([[93.        , 65.        , 11.        , 59.        ,  0.31182656],\n",
       "       [68.        ,  6.        ,  3.        , 20.        ,  0.84517226],\n",
       "       [18.        , 94.        , 81.        , 90.        ,  0.82623156],\n",
       "       [40.        , 55.        , 25.        , 76.        ,  0.63295842],\n",
       "       [97.        , 70.        , 24.        , 51.        ,  0.24574308],\n",
       "       [18.        , 81.        , 99.        , 75.        ,  0.36736073]])"
      ]
     },
     "execution_count": 11,
     "metadata": {},
     "output_type": "execute_result"
    }
   ],
   "source": [
    "np.append(b,np.random.random((b.shape[0],1)),axis=1)"
   ]
  },
  {
   "cell_type": "code",
   "execution_count": 12,
   "id": "a5536cbd-c61d-4c5a-832a-2d2952bbb589",
   "metadata": {},
   "outputs": [
    {
     "data": {
      "text/plain": [
       "(6, 4)"
      ]
     },
     "execution_count": 12,
     "metadata": {},
     "output_type": "execute_result"
    }
   ],
   "source": [
    "b.shape"
   ]
  },
  {
   "cell_type": "code",
   "execution_count": 13,
   "id": "abc58635-2dd1-44b1-9523-013003eea7fd",
   "metadata": {},
   "outputs": [
    {
     "data": {
      "text/plain": [
       "array([[0.99370469],\n",
       "       [0.81827786],\n",
       "       [0.25372551],\n",
       "       [0.80792989]])"
      ]
     },
     "execution_count": 13,
     "metadata": {},
     "output_type": "execute_result"
    }
   ],
   "source": [
    "np.random.random((b.shape[1],1))"
   ]
  },
  {
   "cell_type": "code",
   "execution_count": 14,
   "id": "4a5c5c0c-885c-44fe-b726-6677e03e716b",
   "metadata": {},
   "outputs": [
    {
     "data": {
      "text/plain": [
       "(6, 4)"
      ]
     },
     "execution_count": 14,
     "metadata": {},
     "output_type": "execute_result"
    }
   ],
   "source": [
    "b.shape"
   ]
  },
  {
   "cell_type": "code",
   "execution_count": 15,
   "id": "2ca350ab-dacd-42e4-a00b-72fd13032d59",
   "metadata": {},
   "outputs": [
    {
     "data": {
      "text/plain": [
       "array([[93, 65, 11, 59],\n",
       "       [68,  6,  3, 20],\n",
       "       [18, 94, 81, 90],\n",
       "       [40, 55, 25, 76],\n",
       "       [97, 70, 24, 51],\n",
       "       [18, 81, 99, 75]], dtype=int32)"
      ]
     },
     "execution_count": 15,
     "metadata": {},
     "output_type": "execute_result"
    }
   ],
   "source": [
    "b"
   ]
  },
  {
   "cell_type": "markdown",
   "id": "b55cd8d0-1f32-42b2-8880-d6ab9f48df4b",
   "metadata": {},
   "source": [
    "### np.concatenate\n",
    "- numpy.concatenate() function concatenate a sequence of arrays along an existing axis."
   ]
  },
  {
   "cell_type": "code",
   "execution_count": 16,
   "id": "973556a3-2e47-40c4-87d4-4373a2de873e",
   "metadata": {},
   "outputs": [
    {
     "data": {
      "text/plain": [
       "(array([[0, 1, 2],\n",
       "        [3, 4, 5]]),\n",
       " array([[12, 13, 14],\n",
       "        [15, 16, 17]]))"
      ]
     },
     "execution_count": 16,
     "metadata": {},
     "output_type": "execute_result"
    }
   ],
   "source": [
    "c = np.arange(6).reshape(2,3)\n",
    "d = np.arange(12,18).reshape(2,3)\n",
    "c,d"
   ]
  },
  {
   "cell_type": "code",
   "execution_count": 17,
   "id": "37768f9a-19fe-47ac-90a5-b33a163ae9bf",
   "metadata": {},
   "outputs": [
    {
     "data": {
      "text/plain": [
       "array([[ 0,  1,  2],\n",
       "       [ 3,  4,  5],\n",
       "       [12, 13, 14],\n",
       "       [15, 16, 17]])"
      ]
     },
     "execution_count": 17,
     "metadata": {},
     "output_type": "execute_result"
    }
   ],
   "source": [
    "np.concatenate((c,d))"
   ]
  },
  {
   "cell_type": "code",
   "execution_count": 18,
   "id": "3f109ce9-c292-49fa-b71f-71c258f47ac1",
   "metadata": {},
   "outputs": [
    {
     "data": {
      "text/plain": [
       "array([[ 0,  1,  2],\n",
       "       [ 3,  4,  5],\n",
       "       [12, 13, 14],\n",
       "       [15, 16, 17]])"
      ]
     },
     "execution_count": 18,
     "metadata": {},
     "output_type": "execute_result"
    }
   ],
   "source": [
    "np.concatenate((c,d),axis=0)\n"
   ]
  },
  {
   "cell_type": "code",
   "execution_count": 19,
   "id": "64c4b3f7-bb82-4734-aa2c-76d34fd0ef3f",
   "metadata": {},
   "outputs": [
    {
     "data": {
      "text/plain": [
       "array([[ 0,  1,  2, 12, 13, 14],\n",
       "       [ 3,  4,  5, 15, 16, 17]])"
      ]
     },
     "execution_count": 19,
     "metadata": {},
     "output_type": "execute_result"
    }
   ],
   "source": [
    "np.concatenate((c,d),axis=1)\n"
   ]
  },
  {
   "cell_type": "markdown",
   "id": "ddc691b1-739c-4e20-8b09-a3ec8f611f0d",
   "metadata": {},
   "source": [
    "### np.unique\n",
    "- With the help of np.unique() method, we can get the unique values from an array given as parameter in np.unique() method."
   ]
  },
  {
   "cell_type": "code",
   "execution_count": 20,
   "id": "9db253e0-f7b2-4147-88ef-e62a589bfdf8",
   "metadata": {},
   "outputs": [
    {
     "data": {
      "text/plain": [
       "array([12, 13, 14, 15, 16, 18, 20])"
      ]
     },
     "execution_count": 20,
     "metadata": {},
     "output_type": "execute_result"
    }
   ],
   "source": [
    "e = np.array([12,13,14,15,16,12,18,20,20])\n",
    "np.unique(e)"
   ]
  },
  {
   "cell_type": "markdown",
   "id": "ebe74eb3-7c12-4fb1-9a69-753124146e3e",
   "metadata": {},
   "source": [
    "### np.expand_dims\n",
    "With the help of Numpy.expand_dims() method, we can get the expanded dimensions of an array"
   ]
  },
  {
   "cell_type": "code",
   "execution_count": 21,
   "id": "b6d5fd78-10c1-4e79-9565-73f274123cfc",
   "metadata": {},
   "outputs": [
    {
     "data": {
      "text/plain": [
       "(12,)"
      ]
     },
     "execution_count": 21,
     "metadata": {},
     "output_type": "execute_result"
    }
   ],
   "source": [
    "a.shape"
   ]
  },
  {
   "cell_type": "code",
   "execution_count": 22,
   "id": "5145099d-7135-47a8-8b43-1c33bd57ac01",
   "metadata": {},
   "outputs": [
    {
     "data": {
      "text/plain": [
       "array([[17],\n",
       "       [23],\n",
       "       [22],\n",
       "       [22],\n",
       "       [26],\n",
       "       [16],\n",
       "       [19],\n",
       "       [28],\n",
       "       [20],\n",
       "       [27],\n",
       "       [30],\n",
       "       [31]], dtype=int32)"
      ]
     },
     "execution_count": 22,
     "metadata": {},
     "output_type": "execute_result"
    }
   ],
   "source": [
    "np.expand_dims(a,axis=1)"
   ]
  },
  {
   "cell_type": "code",
   "execution_count": 23,
   "id": "8095f0a9-fecd-4c31-88d1-16199f5e6801",
   "metadata": {},
   "outputs": [
    {
     "data": {
      "text/plain": [
       "array([[17, 23, 22, 22, 26, 16, 19, 28, 20, 27, 30, 31]], dtype=int32)"
      ]
     },
     "execution_count": 23,
     "metadata": {},
     "output_type": "execute_result"
    }
   ],
   "source": [
    "np.expand_dims(a,axis=0)"
   ]
  },
  {
   "cell_type": "markdown",
   "id": "0fd20648-b67c-495d-88ab-5d47713ce8ca",
   "metadata": {},
   "source": [
    "### np.where\n",
    "The numpy.where() function returns the indices of elements in an input array where the given condition is satisfied."
   ]
  },
  {
   "cell_type": "code",
   "execution_count": 24,
   "id": "0c80ff94-a4f9-4dbf-82de-b6329340f859",
   "metadata": {},
   "outputs": [
    {
     "data": {
      "text/plain": [
       "(array([ 1,  2,  3,  4,  7,  9, 10, 11]),)"
      ]
     },
     "execution_count": 24,
     "metadata": {},
     "output_type": "execute_result"
    }
   ],
   "source": [
    "np.where(a>20)"
   ]
  },
  {
   "cell_type": "code",
   "execution_count": 25,
   "id": "bc42a050-3e35-4627-895f-73dd8598f809",
   "metadata": {},
   "outputs": [
    {
     "data": {
      "text/plain": [
       "array([23, 22, 22, 26, 28, 27, 30, 31], dtype=int32)"
      ]
     },
     "execution_count": 25,
     "metadata": {},
     "output_type": "execute_result"
    }
   ],
   "source": [
    "a[a>20]"
   ]
  },
  {
   "cell_type": "code",
   "execution_count": 26,
   "id": "5bc9b173-7a62-4104-b241-9b11216176bb",
   "metadata": {},
   "outputs": [
    {
     "data": {
      "text/plain": [
       "(array([0, 1, 2, 3, 4, 5, 6, 7]),)"
      ]
     },
     "execution_count": 26,
     "metadata": {},
     "output_type": "execute_result"
    }
   ],
   "source": [
    "np.where(a[a>20])    #it creates a new array and give indices of that"
   ]
  },
  {
   "cell_type": "code",
   "execution_count": 27,
   "id": "4af3f280-71b7-4f09-b906-200c35ae47a8",
   "metadata": {},
   "outputs": [
    {
     "data": {
      "text/plain": [
       "array([17,  0,  0,  0,  0, 16, 19,  0, 20,  0,  0,  0], dtype=int32)"
      ]
     },
     "execution_count": 27,
     "metadata": {},
     "output_type": "execute_result"
    }
   ],
   "source": [
    "np.where(a>20,0,a)  # replace values : (condition,if,else)"
   ]
  },
  {
   "cell_type": "code",
   "execution_count": 28,
   "id": "8d5b017d-e169-4e5f-9c60-a608f3805ad1",
   "metadata": {},
   "outputs": [
    {
     "data": {
      "text/plain": [
       "array([17,  0,  0,  0,  0, 16, 19,  0, 20,  0,  0,  0], dtype=int32)"
      ]
     },
     "execution_count": 28,
     "metadata": {},
     "output_type": "execute_result"
    }
   ],
   "source": [
    "np.where(a>20,0,a)"
   ]
  },
  {
   "cell_type": "code",
   "execution_count": 29,
   "id": "15f611ef-91b2-488d-b22e-41d354000441",
   "metadata": {},
   "outputs": [
    {
     "data": {
      "text/plain": [
       "array([17, 23,  0,  0,  0,  0, 19,  0,  0, 27,  0, 31], dtype=int32)"
      ]
     },
     "execution_count": 29,
     "metadata": {},
     "output_type": "execute_result"
    }
   ],
   "source": [
    "np.where(a%2 == 0,0,a)"
   ]
  },
  {
   "cell_type": "markdown",
   "id": "67ad8341-2c1f-42ac-8c4f-b092c1ba25f3",
   "metadata": {},
   "source": [
    "### np.argmax\n",
    "The numpy.argmax() function returns indices of the max element of the array in a particular axis.\n"
   ]
  },
  {
   "cell_type": "code",
   "execution_count": 30,
   "id": "a5b0b74e-b825-425b-bfc7-68db5da83cce",
   "metadata": {},
   "outputs": [],
   "source": [
    "b =a.reshape(3,4)"
   ]
  },
  {
   "cell_type": "code",
   "execution_count": 31,
   "id": "c9af454f-f59e-4225-95b3-cc4a9a9c8283",
   "metadata": {},
   "outputs": [
    {
     "data": {
      "text/plain": [
       "np.int64(11)"
      ]
     },
     "execution_count": 31,
     "metadata": {},
     "output_type": "execute_result"
    }
   ],
   "source": [
    "np.argmax(a)"
   ]
  },
  {
   "cell_type": "code",
   "execution_count": 32,
   "id": "2aad721d-258d-4ab0-82d1-5151efd072a8",
   "metadata": {},
   "outputs": [
    {
     "data": {
      "text/plain": [
       "array([1, 2, 2, 2])"
      ]
     },
     "execution_count": 32,
     "metadata": {},
     "output_type": "execute_result"
    }
   ],
   "source": [
    "np.argmax(b,axis=0)"
   ]
  },
  {
   "cell_type": "code",
   "execution_count": 33,
   "id": "958bc98d-9c14-4203-a92b-a08fd1487c3d",
   "metadata": {},
   "outputs": [
    {
     "data": {
      "text/plain": [
       "array([1, 3, 3])"
      ]
     },
     "execution_count": 33,
     "metadata": {},
     "output_type": "execute_result"
    }
   ],
   "source": [
    "np.argmax(b,axis=1)"
   ]
  },
  {
   "cell_type": "markdown",
   "id": "dc0cdde3-c76e-4168-8086-ca1b7d62314e",
   "metadata": {},
   "source": [
    "### np.argmin"
   ]
  },
  {
   "cell_type": "code",
   "execution_count": 34,
   "id": "fd5a1651-b2ab-4618-b786-41b2533169bf",
   "metadata": {},
   "outputs": [
    {
     "data": {
      "text/plain": [
       "np.int64(5)"
      ]
     },
     "execution_count": 34,
     "metadata": {},
     "output_type": "execute_result"
    }
   ],
   "source": [
    "np.argmin(a)"
   ]
  },
  {
   "cell_type": "code",
   "execution_count": 35,
   "id": "db21c4f9-1fb0-4b6c-b224-5192f32cb8a2",
   "metadata": {},
   "outputs": [
    {
     "data": {
      "text/plain": [
       "np.int64(5)"
      ]
     },
     "execution_count": 35,
     "metadata": {},
     "output_type": "execute_result"
    }
   ],
   "source": [
    "np.argmin(b)"
   ]
  },
  {
   "cell_type": "code",
   "execution_count": 36,
   "id": "e77b9147-c051-4a06-9561-1ca88144486b",
   "metadata": {},
   "outputs": [
    {
     "data": {
      "text/plain": [
       "array([[17, 23, 22, 22],\n",
       "       [26, 16, 19, 28],\n",
       "       [20, 27, 30, 31]], dtype=int32)"
      ]
     },
     "execution_count": 36,
     "metadata": {},
     "output_type": "execute_result"
    }
   ],
   "source": [
    "b"
   ]
  },
  {
   "cell_type": "code",
   "execution_count": 37,
   "id": "47e7daca-07a7-4731-82fa-24fb93fab208",
   "metadata": {},
   "outputs": [
    {
     "data": {
      "text/plain": [
       "array([0, 1, 1, 0])"
      ]
     },
     "execution_count": 37,
     "metadata": {},
     "output_type": "execute_result"
    }
   ],
   "source": [
    "np.argmin(b,axis=0)"
   ]
  },
  {
   "cell_type": "code",
   "execution_count": 38,
   "id": "9c81e794-1596-4a6f-b418-8b2589f775f9",
   "metadata": {},
   "outputs": [
    {
     "data": {
      "text/plain": [
       "array([0, 1, 0])"
      ]
     },
     "execution_count": 38,
     "metadata": {},
     "output_type": "execute_result"
    }
   ],
   "source": [
    "np.argmin(b,axis=1)\n"
   ]
  },
  {
   "cell_type": "markdown",
   "id": "dafdcde0-10b4-45f2-bc47-10ddc90ded3c",
   "metadata": {},
   "source": [
    "### np.cumsum\n",
    "numpy.cumsum() function is used when we want to compute the cumulative sum of array elements over a given axis."
   ]
  },
  {
   "cell_type": "code",
   "execution_count": 39,
   "id": "c8dd5019-d4cf-4970-bec7-c7784978f272",
   "metadata": {},
   "outputs": [
    {
     "data": {
      "text/plain": [
       "array([ 17,  40,  62,  84, 110, 126, 145, 173, 193, 220, 250, 281])"
      ]
     },
     "execution_count": 39,
     "metadata": {},
     "output_type": "execute_result"
    }
   ],
   "source": [
    "np.cumsum(a)"
   ]
  },
  {
   "cell_type": "code",
   "execution_count": 40,
   "id": "e192bcff-336a-4709-9d2c-7ca11279d1d5",
   "metadata": {},
   "outputs": [
    {
     "data": {
      "text/plain": [
       "array([ 17,  40,  62,  84, 110, 126, 145, 173, 193, 220, 250, 281])"
      ]
     },
     "execution_count": 40,
     "metadata": {},
     "output_type": "execute_result"
    }
   ],
   "source": [
    "np.cumsum(b)"
   ]
  },
  {
   "cell_type": "code",
   "execution_count": 41,
   "id": "590aca42-0956-4803-9d70-f1618b961808",
   "metadata": {},
   "outputs": [
    {
     "data": {
      "text/plain": [
       "array([[17, 23, 22, 22],\n",
       "       [43, 39, 41, 50],\n",
       "       [63, 66, 71, 81]])"
      ]
     },
     "execution_count": 41,
     "metadata": {},
     "output_type": "execute_result"
    }
   ],
   "source": [
    "np.cumsum(b,axis=0)"
   ]
  },
  {
   "cell_type": "code",
   "execution_count": 42,
   "id": "edaf5c45-8364-47d2-bd05-b07a2e54f627",
   "metadata": {},
   "outputs": [
    {
     "data": {
      "text/plain": [
       "array([[ 17,  40,  62,  84],\n",
       "       [ 26,  42,  61,  89],\n",
       "       [ 20,  47,  77, 108]])"
      ]
     },
     "execution_count": 42,
     "metadata": {},
     "output_type": "execute_result"
    }
   ],
   "source": [
    "np.cumsum(b,axis=1)"
   ]
  },
  {
   "cell_type": "markdown",
   "id": "c5d51093-fc89-4fdd-a837-ee04442454c6",
   "metadata": {},
   "source": [
    "### np.cumprod"
   ]
  },
  {
   "cell_type": "code",
   "execution_count": 43,
   "id": "96fb3407-a610-4289-bf29-33086b5d288f",
   "metadata": {},
   "outputs": [
    {
     "data": {
      "text/plain": [
       "array([               17,               391,              8602,\n",
       "                  189244,           4920344,          78725504,\n",
       "              1495784576,       41881968128,      837639362560,\n",
       "          22616262789120,   678487883673600, 21033124393881600])"
      ]
     },
     "execution_count": 43,
     "metadata": {},
     "output_type": "execute_result"
    }
   ],
   "source": [
    "np.cumprod(b)"
   ]
  },
  {
   "cell_type": "code",
   "execution_count": 44,
   "id": "31f65b44-4f5c-43b4-a721-9e48bdeb3512",
   "metadata": {},
   "outputs": [
    {
     "data": {
      "text/plain": [
       "array([[   17,    23,    22,    22],\n",
       "       [  442,   368,   418,   616],\n",
       "       [ 8840,  9936, 12540, 19096]])"
      ]
     },
     "execution_count": 44,
     "metadata": {},
     "output_type": "execute_result"
    }
   ],
   "source": [
    "np.cumprod(b,axis=0)"
   ]
  },
  {
   "cell_type": "markdown",
   "id": "2f97b512-e98c-430a-aa59-c1dfb1001139",
   "metadata": {},
   "source": [
    "### np.percentile\n",
    "numpy.percentile()function used to compute the nth percentile of the given data (array elements) along the specified axis."
   ]
  },
  {
   "cell_type": "code",
   "execution_count": 45,
   "id": "10965234-0954-41e2-9c87-a181e6aedcbb",
   "metadata": {},
   "outputs": [
    {
     "data": {
      "text/plain": [
       "np.float64(29.8)"
      ]
     },
     "execution_count": 45,
     "metadata": {},
     "output_type": "execute_result"
    }
   ],
   "source": [
    "np.percentile(a,90)"
   ]
  },
  {
   "cell_type": "code",
   "execution_count": 46,
   "id": "bca2b17c-920f-4412-8dec-200f6ab6b2f6",
   "metadata": {},
   "outputs": [
    {
     "data": {
      "text/plain": [
       "np.float64(22.5)"
      ]
     },
     "execution_count": 46,
     "metadata": {},
     "output_type": "execute_result"
    }
   ],
   "source": [
    "np.percentile(a,50)"
   ]
  },
  {
   "cell_type": "code",
   "execution_count": 47,
   "id": "071280b8-8459-420a-898f-f932f0de38e8",
   "metadata": {},
   "outputs": [
    {
     "data": {
      "text/plain": [
       "array([22.  , 21.45, 28.05])"
      ]
     },
     "execution_count": 47,
     "metadata": {},
     "output_type": "execute_result"
    }
   ],
   "source": [
    "np.percentile(b,45,axis=1)"
   ]
  },
  {
   "cell_type": "code",
   "execution_count": 48,
   "id": "d6aa8c37-006e-44e6-83a2-a55576681b83",
   "metadata": {},
   "outputs": [
    {
     "data": {
      "text/plain": [
       "np.float64(22.5)"
      ]
     },
     "execution_count": 48,
     "metadata": {},
     "output_type": "execute_result"
    }
   ],
   "source": [
    "np.median(a)"
   ]
  },
  {
   "cell_type": "markdown",
   "id": "7d0b4e22-3314-4b15-8de0-2e0cb5d15a1c",
   "metadata": {},
   "source": [
    "### np.histogram\n",
    "Numpy has a built-in numpy.histogram() function which represents the frequency of data distribution in the graphical form."
   ]
  },
  {
   "cell_type": "code",
   "execution_count": null,
   "id": "75843b9c-642e-46f2-9987-169629acc515",
   "metadata": {},
   "outputs": [
    {
     "data": {
      "text/plain": [
       "(array([12]), array([ 0, 50]))"
      ]
     },
     "execution_count": 49,
     "metadata": {},
     "output_type": "execute_result"
    }
   ],
   "source": [
    "np.histogram(a,[0,50])      #number b/w 0-50"
   ]
  },
  {
   "cell_type": "code",
   "execution_count": null,
   "id": "ed2bc7ec-f684-4cb6-a00f-79cd4c0a1f2c",
   "metadata": {},
   "outputs": [
    {
     "data": {
      "text/plain": [
       "(array([3, 9]), array([ 0, 20, 40]))"
      ]
     },
     "execution_count": 50,
     "metadata": {},
     "output_type": "execute_result"
    }
   ],
   "source": [
    "np.histogram(b,[0,20,40])     #number b/w 0-20 , 20-40"
   ]
  },
  {
   "cell_type": "code",
   "execution_count": 51,
   "id": "b74f045a-ed30-4098-a4be-b86a1cbdf22f",
   "metadata": {},
   "outputs": [
    {
     "data": {
      "text/plain": [
       "(array([3, 9]), array([ 0, 20, 40]))"
      ]
     },
     "execution_count": 51,
     "metadata": {},
     "output_type": "execute_result"
    }
   ],
   "source": [
    "np.histogram(b,[0,20,40])\n"
   ]
  },
  {
   "cell_type": "markdown",
   "id": "90e0522a-ca9f-4c70-b44a-f1ed1b4e14ba",
   "metadata": {},
   "source": [
    "### np.corrcoef\n",
    "Return Pearson product-moment correlation coefficients."
   ]
  },
  {
   "cell_type": "markdown",
   "id": "fbf00924-e3d4-4993-b8a8-b113442e2162",
   "metadata": {},
   "source": [
    "- It calculates the Pearson correlation coefficient, which tells you how strongly two variables are related."
   ]
  },
  {
   "cell_type": "code",
   "execution_count": 52,
   "id": "a3c867af-edbb-47a9-9283-37401d3625f6",
   "metadata": {},
   "outputs": [
    {
     "data": {
      "text/plain": [
       "array([[1., 1.],\n",
       "       [1., 1.]])"
      ]
     },
     "execution_count": 52,
     "metadata": {},
     "output_type": "execute_result"
    }
   ],
   "source": [
    "import numpy as np\n",
    "\n",
    "x = [1, 2, 3, 4, 5]        # Study hours\n",
    "y = [50, 60, 70, 80, 90]   # Exam scores\n",
    "\n",
    "np.corrcoef(x, y)\n"
   ]
  },
  {
   "cell_type": "code",
   "execution_count": 53,
   "id": "920e4e59-f13f-43cc-93ef-b97c1f063f17",
   "metadata": {},
   "outputs": [
    {
     "data": {
      "text/plain": [
       "array([[1.        , 0.25344572],\n",
       "       [0.25344572, 1.        ]])"
      ]
     },
     "execution_count": 53,
     "metadata": {},
     "output_type": "execute_result"
    }
   ],
   "source": [
    "salary = np.array([20000,40000,25000,35000,60000])\n",
    "experience = np.array([1,3,2,4,2])\n",
    "\n",
    "np.corrcoef(salary,experience)"
   ]
  },
  {
   "cell_type": "markdown",
   "id": "b06d6279-ba7d-4813-a3ed-746f0edc07b7",
   "metadata": {},
   "source": [
    "### np.isin\n",
    "With the help of numpy.isin() method, we can see that one array having values are checked in a different numpy array having different elements with different sizes."
   ]
  },
  {
   "cell_type": "code",
   "execution_count": 54,
   "id": "38bc1b26-3589-4e65-87de-9c41a464827f",
   "metadata": {},
   "outputs": [
    {
     "data": {
      "text/plain": [
       "array([False, False, False, False, False, False, False, False,  True,\n",
       "       False, False, False])"
      ]
     },
     "execution_count": 54,
     "metadata": {},
     "output_type": "execute_result"
    }
   ],
   "source": [
    "np.isin(a,[12,13,20])"
   ]
  },
  {
   "cell_type": "code",
   "execution_count": 55,
   "id": "8c523dbb-24e3-43ae-a4ca-d3c94c608f9e",
   "metadata": {},
   "outputs": [
    {
     "data": {
      "text/plain": [
       "array([20], dtype=int32)"
      ]
     },
     "execution_count": 55,
     "metadata": {},
     "output_type": "execute_result"
    }
   ],
   "source": [
    "a[np.isin(a,[12,13,20])]\n"
   ]
  },
  {
   "cell_type": "markdown",
   "id": "59328c15-6eb2-40fb-bdb4-5d81e5c6547b",
   "metadata": {},
   "source": [
    "### np.flip\n",
    "The numpy.flip() function reverses the order of array elements along the specified axis, preserving the shape of the array."
   ]
  },
  {
   "cell_type": "code",
   "execution_count": 56,
   "id": "9eb39193-4f60-47d9-8afd-210168acc33b",
   "metadata": {},
   "outputs": [
    {
     "data": {
      "text/plain": [
       "array([17, 23, 22, 22, 26, 16, 19, 28, 20, 27, 30, 31], dtype=int32)"
      ]
     },
     "execution_count": 56,
     "metadata": {},
     "output_type": "execute_result"
    }
   ],
   "source": [
    "a"
   ]
  },
  {
   "cell_type": "code",
   "execution_count": 57,
   "id": "10e06fdc-bf43-4f90-b097-91a8508e0648",
   "metadata": {},
   "outputs": [
    {
     "data": {
      "text/plain": [
       "array([[17, 23, 22, 22],\n",
       "       [26, 16, 19, 28],\n",
       "       [20, 27, 30, 31]], dtype=int32)"
      ]
     },
     "execution_count": 57,
     "metadata": {},
     "output_type": "execute_result"
    }
   ],
   "source": [
    "b"
   ]
  },
  {
   "cell_type": "code",
   "execution_count": 58,
   "id": "40bc5e13-ae1b-4eb2-8ede-04afb5bb2b29",
   "metadata": {},
   "outputs": [
    {
     "data": {
      "text/plain": [
       "array([31, 30, 27, 20, 28, 19, 16, 26, 22, 22, 23, 17], dtype=int32)"
      ]
     },
     "execution_count": 58,
     "metadata": {},
     "output_type": "execute_result"
    }
   ],
   "source": [
    "np.flip(a)"
   ]
  },
  {
   "cell_type": "code",
   "execution_count": 59,
   "id": "24a56f1e-9f22-4cdf-a0ac-b3c92225b297",
   "metadata": {},
   "outputs": [
    {
     "data": {
      "text/plain": [
       "array([[31, 30, 27, 20],\n",
       "       [28, 19, 16, 26],\n",
       "       [22, 22, 23, 17]], dtype=int32)"
      ]
     },
     "execution_count": 59,
     "metadata": {},
     "output_type": "execute_result"
    }
   ],
   "source": [
    "np.flip(b)"
   ]
  },
  {
   "cell_type": "code",
   "execution_count": 60,
   "id": "28aecdc7-bcc2-4de1-908e-2ba97a18d951",
   "metadata": {},
   "outputs": [
    {
     "data": {
      "text/plain": [
       "array([[20, 27, 30, 31],\n",
       "       [26, 16, 19, 28],\n",
       "       [17, 23, 22, 22]], dtype=int32)"
      ]
     },
     "execution_count": 60,
     "metadata": {},
     "output_type": "execute_result"
    }
   ],
   "source": [
    "np.flip(b,axis=0)"
   ]
  },
  {
   "cell_type": "markdown",
   "id": "27611140-5a7b-4b65-b934-01a4e3631a1c",
   "metadata": {},
   "source": [
    "### np.put\n",
    "The numpy.put() function replaces specific elements of an array with given values of p_array. Array indexed works on flattened array."
   ]
  },
  {
   "cell_type": "code",
   "execution_count": 61,
   "id": "eb64269a-cd46-432b-bcd8-f8b6fd153d18",
   "metadata": {},
   "outputs": [],
   "source": [
    "np.put(a,[0,1],[110,120])"
   ]
  },
  {
   "cell_type": "code",
   "execution_count": 62,
   "id": "3b104aac-75e6-4588-b7ce-575a1f9e3067",
   "metadata": {},
   "outputs": [
    {
     "data": {
      "text/plain": [
       "array([110, 120,  22,  22,  26,  16,  19,  28,  20,  27,  30,  31],\n",
       "      dtype=int32)"
      ]
     },
     "execution_count": 62,
     "metadata": {},
     "output_type": "execute_result"
    }
   ],
   "source": [
    "a"
   ]
  },
  {
   "cell_type": "code",
   "execution_count": 63,
   "id": "33605cd6-dd6c-4c9a-889a-c8d3510971af",
   "metadata": {},
   "outputs": [
    {
     "data": {
      "text/plain": [
       "array([[110, 120,  22,  22],\n",
       "       [ 26,  16,  19,  28],\n",
       "       [ 20,  27,  30,  31]], dtype=int32)"
      ]
     },
     "execution_count": 63,
     "metadata": {},
     "output_type": "execute_result"
    }
   ],
   "source": [
    "np.put(b,[0,1],[110,120])\n",
    "b"
   ]
  },
  {
   "cell_type": "markdown",
   "id": "6b226a5a-34b4-4888-9d84-470ab9ec5c37",
   "metadata": {},
   "source": [
    "### np.delete\n",
    "The numpy.delete() function returns a new array with the deletion of sub-arrays along with the mentioned axis."
   ]
  },
  {
   "cell_type": "code",
   "execution_count": 64,
   "id": "6851f27a-351b-41b3-bb7b-a0fd07b13fbc",
   "metadata": {},
   "outputs": [
    {
     "data": {
      "text/plain": [
       "array([110, 120,  22,  22,  26,  16,  19,  28,  20,  27,  30,  31],\n",
       "      dtype=int32)"
      ]
     },
     "execution_count": 64,
     "metadata": {},
     "output_type": "execute_result"
    }
   ],
   "source": [
    "a"
   ]
  },
  {
   "cell_type": "code",
   "execution_count": 65,
   "id": "3f07a5a6-85ed-47da-8b99-7e5a0c2947f6",
   "metadata": {},
   "outputs": [
    {
     "data": {
      "text/plain": [
       "array([110, 120,  22,  26,  16,  19,  28,  20,  27,  30,  31], dtype=int32)"
      ]
     },
     "execution_count": 65,
     "metadata": {},
     "output_type": "execute_result"
    }
   ],
   "source": [
    "np.delete(a,2)"
   ]
  },
  {
   "cell_type": "code",
   "execution_count": 66,
   "id": "91dfe718-f710-47fc-b0d4-b6d8a25ed716",
   "metadata": {},
   "outputs": [
    {
     "data": {
      "text/plain": [
       "array([[110, 120,  22,  22],\n",
       "       [ 26,  16,  19,  28],\n",
       "       [ 20,  27,  30,  31]], dtype=int32)"
      ]
     },
     "execution_count": 66,
     "metadata": {},
     "output_type": "execute_result"
    }
   ],
   "source": [
    "b"
   ]
  },
  {
   "cell_type": "code",
   "execution_count": 67,
   "id": "6321d457-cfb0-4ecb-badc-bcaf05e81172",
   "metadata": {},
   "outputs": [
    {
     "data": {
      "text/plain": [
       "array([[110, 120,  22,  22],\n",
       "       [ 20,  27,  30,  31]], dtype=int32)"
      ]
     },
     "execution_count": 67,
     "metadata": {},
     "output_type": "execute_result"
    }
   ],
   "source": [
    "np.delete(b,1,axis=0)"
   ]
  },
  {
   "cell_type": "code",
   "execution_count": 68,
   "id": "c8faf25f-6373-4984-a028-7b9a5e8e3c51",
   "metadata": {},
   "outputs": [
    {
     "data": {
      "text/plain": [
       "array([[110, 120,  22,  22],\n",
       "       [ 26,  16,  19,  28],\n",
       "       [ 20,  27,  30,  31]], dtype=int32)"
      ]
     },
     "execution_count": 68,
     "metadata": {},
     "output_type": "execute_result"
    }
   ],
   "source": [
    "b"
   ]
  },
  {
   "cell_type": "code",
   "execution_count": 69,
   "id": "1f0f67b2-ffc3-4c92-82f2-c35870d9372d",
   "metadata": {},
   "outputs": [
    {
     "data": {
      "text/plain": [
       "array([[120,  22],\n",
       "       [ 16,  28],\n",
       "       [ 27,  31]], dtype=int32)"
      ]
     },
     "execution_count": 69,
     "metadata": {},
     "output_type": "execute_result"
    }
   ],
   "source": [
    "np.delete(b,[0,2],axis=1)"
   ]
  },
  {
   "cell_type": "markdown",
   "id": "4c8bd002-f615-462f-aa99-211b1617c7db",
   "metadata": {},
   "source": [
    "### Set functions\n",
    "- np.union1d\n",
    "- np.intersect1d\n",
    "- np.setdiff1d\n",
    "- np.setxor1d\n",
    "- np.in1d"
   ]
  },
  {
   "cell_type": "code",
   "execution_count": 81,
   "id": "3d7f4340-1e79-428b-b528-d479e469d17e",
   "metadata": {},
   "outputs": [
    {
     "data": {
      "text/plain": [
       "array([ 1,  2,  3,  4,  5,  9, 11, 13, 16, 17])"
      ]
     },
     "execution_count": 81,
     "metadata": {},
     "output_type": "execute_result"
    }
   ],
   "source": [
    "m = np.array([1,2,3,4,5,16])\n",
    "n = np.array([2,4,5,9,11,13,16,17])\n",
    "np.union1d(m,n)"
   ]
  },
  {
   "cell_type": "code",
   "execution_count": 82,
   "id": "34019316-1b27-44d1-95cc-e0f9141b73ad",
   "metadata": {},
   "outputs": [
    {
     "data": {
      "text/plain": [
       "array([ 2,  4,  5, 16])"
      ]
     },
     "execution_count": 82,
     "metadata": {},
     "output_type": "execute_result"
    }
   ],
   "source": [
    "np.intersect1d(m,n)   #returns which are common in both"
   ]
  },
  {
   "cell_type": "code",
   "execution_count": 83,
   "id": "6f45d92c-4943-48b6-bd3a-ab87102e13e7",
   "metadata": {},
   "outputs": [
    {
     "data": {
      "text/plain": [
       "array([1, 3])"
      ]
     },
     "execution_count": 83,
     "metadata": {},
     "output_type": "execute_result"
    }
   ],
   "source": [
    "np.setdiff1d(m,n)  #returns the elements which are not common from 1st array"
   ]
  },
  {
   "cell_type": "code",
   "execution_count": 85,
   "id": "6aa13053-2c86-4744-bc1a-789a548f637e",
   "metadata": {},
   "outputs": [
    {
     "data": {
      "text/plain": [
       "array([ 1,  3,  9, 11, 13, 17])"
      ]
     },
     "execution_count": 85,
     "metadata": {},
     "output_type": "execute_result"
    }
   ],
   "source": [
    "np.setxor1d(m,n)  #returns the elements which are not common from bith arrays"
   ]
  },
  {
   "cell_type": "code",
   "execution_count": 88,
   "id": "70c42727-f7a8-430b-8331-b2ac81920c51",
   "metadata": {},
   "outputs": [
    {
     "name": "stderr",
     "output_type": "stream",
     "text": [
      "C:\\Users\\ziaah\\AppData\\Local\\Temp\\ipykernel_9480\\3071740502.py:1: DeprecationWarning: `in1d` is deprecated. Use `np.isin` instead.\n",
      "  np.in1d(m,16)\n"
     ]
    },
    {
     "data": {
      "text/plain": [
       "array([False, False, False, False, False,  True])"
      ]
     },
     "execution_count": 88,
     "metadata": {},
     "output_type": "execute_result"
    }
   ],
   "source": [
    "np.in1d(m,16)"
   ]
  },
  {
   "cell_type": "code",
   "execution_count": 90,
   "id": "43d401ba-65a7-43cb-9c77-bd5e3e164c98",
   "metadata": {},
   "outputs": [
    {
     "name": "stderr",
     "output_type": "stream",
     "text": [
      "C:\\Users\\ziaah\\AppData\\Local\\Temp\\ipykernel_9480\\3163783927.py:1: DeprecationWarning: `in1d` is deprecated. Use `np.isin` instead.\n",
      "  m[np.in1d(m,16)]\n"
     ]
    },
    {
     "data": {
      "text/plain": [
       "array([16])"
      ]
     },
     "execution_count": 90,
     "metadata": {},
     "output_type": "execute_result"
    }
   ],
   "source": [
    "m[np.in1d(m,16)]"
   ]
  },
  {
   "cell_type": "markdown",
   "id": "a98eb331-a672-412a-9fe1-d4e504363fd5",
   "metadata": {},
   "source": [
    "### np.clip\n",
    "numpy.clip() function is used to Clip (limit) the values in an array\n",
    "- limits the range of your numerical data, ensuring values stay within a desired boundary"
   ]
  },
  {
   "cell_type": "code",
   "execution_count": 91,
   "id": "4cb74bf3-f9aa-4a25-9208-502bda437210",
   "metadata": {},
   "outputs": [
    {
     "data": {
      "text/plain": [
       "array([110, 120,  22,  22,  26,  16,  19,  28,  20,  27,  30,  31],\n",
       "      dtype=int32)"
      ]
     },
     "execution_count": 91,
     "metadata": {},
     "output_type": "execute_result"
    }
   ],
   "source": [
    "a"
   ]
  },
  {
   "cell_type": "code",
   "execution_count": 92,
   "id": "ac0a2680-0971-4f25-a25e-42cd6354ada4",
   "metadata": {},
   "outputs": [
    {
     "data": {
      "text/plain": [
       "array([110, 110,  25,  25,  26,  25,  25,  28,  25,  27,  30,  31],\n",
       "      dtype=int32)"
      ]
     },
     "execution_count": 92,
     "metadata": {},
     "output_type": "execute_result"
    }
   ],
   "source": [
    "np.clip(a,a_min=25,a_max=110)"
   ]
  },
  {
   "cell_type": "code",
   "execution_count": null,
   "id": "22463b29-1c32-4f04-8ca6-86b69cd449e1",
   "metadata": {},
   "outputs": [],
   "source": []
  },
  {
   "cell_type": "code",
   "execution_count": null,
   "id": "1265566d-a4f0-436a-9b20-bb1089c37466",
   "metadata": {},
   "outputs": [],
   "source": []
  },
  {
   "cell_type": "code",
   "execution_count": null,
   "id": "a5c218e9-3a55-4da6-8871-ec1722646aa8",
   "metadata": {},
   "outputs": [],
   "source": []
  },
  {
   "cell_type": "code",
   "execution_count": null,
   "id": "744441de-7c40-4a73-b004-63008bc204af",
   "metadata": {},
   "outputs": [],
   "source": []
  },
  {
   "cell_type": "code",
   "execution_count": null,
   "id": "2202b71b-d050-44a9-ad6a-d057594ef5b1",
   "metadata": {},
   "outputs": [],
   "source": []
  }
 ],
 "metadata": {
  "kernelspec": {
   "display_name": "Python 3 (ipykernel)",
   "language": "python",
   "name": "python3"
  },
  "language_info": {
   "codemirror_mode": {
    "name": "ipython",
    "version": 3
   },
   "file_extension": ".py",
   "mimetype": "text/x-python",
   "name": "python",
   "nbconvert_exporter": "python",
   "pygments_lexer": "ipython3",
   "version": "3.13.5"
  }
 },
 "nbformat": 4,
 "nbformat_minor": 5
}
